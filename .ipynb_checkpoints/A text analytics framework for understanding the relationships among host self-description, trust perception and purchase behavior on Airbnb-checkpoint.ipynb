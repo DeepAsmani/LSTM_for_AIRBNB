{
 "cells": [
  {
   "cell_type": "code",
   "execution_count": null,
   "id": "fe1aa15a",
   "metadata": {},
   "outputs": [],
   "source": []
  },
  {
   "cell_type": "markdown",
   "id": "780a172d",
   "metadata": {},
   "source": [
    "# Importing libraries "
   ]
  },
  {
   "cell_type": "code",
   "execution_count": 1,
   "id": "08e8c2f6",
   "metadata": {},
   "outputs": [
    {
     "name": "stderr",
     "output_type": "stream",
     "text": [
      "[nltk_data] Downloading package stopwords to\n",
      "[nltk_data]     C:\\Users\\Dell\\AppData\\Roaming\\nltk_data...\n",
      "[nltk_data]   Package stopwords is already up-to-date!\n",
      "[nltk_data] Downloading package vader_lexicon to\n",
      "[nltk_data]     C:\\Users\\Dell\\AppData\\Roaming\\nltk_data...\n",
      "[nltk_data]   Package vader_lexicon is already up-to-date!\n"
     ]
    }
   ],
   "source": [
    "import numpy as np # linear algebra\n",
    "import pandas as pd # data processing\n",
    "import os\n",
    "\n",
    "#For Preprocessing\n",
    "import re    # RegEx for removing non-letter characters\n",
    "import nltk  #natural language processing\n",
    "nltk.download(\"stopwords\")\n",
    "from nltk.corpus import stopwords\n",
    "from nltk.stem.porter import *\n",
    "nltk.download('vader_lexicon')\n",
    "from nltk.sentiment.vader import SentimentIntensityAnalyzer\n",
    "\n",
    "# For Building the model\n",
    "from sklearn.model_selection import train_test_split\n",
    "import tensorflow as tf\n",
    "import seaborn as sns\n",
    "\n",
    "#For data visualization\n",
    "import matplotlib.pyplot as plt\n",
    "import matplotlib.patches as mpatches\n",
    "%matplotlib inline\n",
    "\n",
    "\n",
    "pd.options.plotting.backend = \"plotly\""
   ]
  },
  {
   "cell_type": "code",
   "execution_count": 2,
   "id": "292c0249",
   "metadata": {},
   "outputs": [
    {
     "name": "stderr",
     "output_type": "stream",
     "text": [
      "C:\\Users\\Dell\\AppData\\Local\\Temp\\ipykernel_15792\\3038471142.py:1: DtypeWarning: Columns (67) have mixed types. Specify dtype option on import or set low_memory=False.\n",
      "  main=pd.read_csv('listings.csv')\n"
     ]
    },
    {
     "data": {
      "text/html": [
       "<div>\n",
       "<style scoped>\n",
       "    .dataframe tbody tr th:only-of-type {\n",
       "        vertical-align: middle;\n",
       "    }\n",
       "\n",
       "    .dataframe tbody tr th {\n",
       "        vertical-align: top;\n",
       "    }\n",
       "\n",
       "    .dataframe thead th {\n",
       "        text-align: right;\n",
       "    }\n",
       "</style>\n",
       "<table border=\"1\" class=\"dataframe\">\n",
       "  <thead>\n",
       "    <tr style=\"text-align: right;\">\n",
       "      <th></th>\n",
       "      <th>id</th>\n",
       "      <th>listing_url</th>\n",
       "      <th>scrape_id</th>\n",
       "      <th>last_scraped</th>\n",
       "      <th>name</th>\n",
       "      <th>description</th>\n",
       "      <th>neighborhood_overview</th>\n",
       "      <th>picture_url</th>\n",
       "      <th>host_id</th>\n",
       "      <th>host_url</th>\n",
       "      <th>...</th>\n",
       "      <th>review_scores_communication</th>\n",
       "      <th>review_scores_location</th>\n",
       "      <th>review_scores_value</th>\n",
       "      <th>license</th>\n",
       "      <th>instant_bookable</th>\n",
       "      <th>calculated_host_listings_count</th>\n",
       "      <th>calculated_host_listings_count_entire_homes</th>\n",
       "      <th>calculated_host_listings_count_private_rooms</th>\n",
       "      <th>calculated_host_listings_count_shared_rooms</th>\n",
       "      <th>reviews_per_month</th>\n",
       "    </tr>\n",
       "  </thead>\n",
       "  <tbody>\n",
       "    <tr>\n",
       "      <th>0</th>\n",
       "      <td>2595</td>\n",
       "      <td>https://www.airbnb.com/rooms/2595</td>\n",
       "      <td>20220603182654</td>\n",
       "      <td>2022-06-04</td>\n",
       "      <td>Skylit Midtown Castle</td>\n",
       "      <td>Beautiful, spacious skylit studio in the heart...</td>\n",
       "      <td>Centrally located in the heart of Manhattan ju...</td>\n",
       "      <td>https://a0.muscache.com/pictures/f0813a11-40b2...</td>\n",
       "      <td>2845</td>\n",
       "      <td>https://www.airbnb.com/users/show/2845</td>\n",
       "      <td>...</td>\n",
       "      <td>4.79</td>\n",
       "      <td>4.86</td>\n",
       "      <td>4.41</td>\n",
       "      <td>NaN</td>\n",
       "      <td>f</td>\n",
       "      <td>3</td>\n",
       "      <td>3</td>\n",
       "      <td>0</td>\n",
       "      <td>0</td>\n",
       "      <td>0.31</td>\n",
       "    </tr>\n",
       "    <tr>\n",
       "      <th>1</th>\n",
       "      <td>5121</td>\n",
       "      <td>https://www.airbnb.com/rooms/5121</td>\n",
       "      <td>20220603182654</td>\n",
       "      <td>2022-06-04</td>\n",
       "      <td>BlissArtsSpace!</td>\n",
       "      <td>One room available for rent in a 2 bedroom apt...</td>\n",
       "      <td>NaN</td>\n",
       "      <td>https://a0.muscache.com/pictures/2090980c-b68e...</td>\n",
       "      <td>7356</td>\n",
       "      <td>https://www.airbnb.com/users/show/7356</td>\n",
       "      <td>...</td>\n",
       "      <td>4.91</td>\n",
       "      <td>4.47</td>\n",
       "      <td>4.52</td>\n",
       "      <td>NaN</td>\n",
       "      <td>f</td>\n",
       "      <td>2</td>\n",
       "      <td>0</td>\n",
       "      <td>2</td>\n",
       "      <td>0</td>\n",
       "      <td>0.32</td>\n",
       "    </tr>\n",
       "    <tr>\n",
       "      <th>2</th>\n",
       "      <td>5136</td>\n",
       "      <td>https://www.airbnb.com/rooms/5136</td>\n",
       "      <td>20220603182654</td>\n",
       "      <td>2022-06-04</td>\n",
       "      <td>Spacious Brooklyn Duplex, Patio + Garden</td>\n",
       "      <td>We welcome you to stay in our lovely 2 br dupl...</td>\n",
       "      <td>NaN</td>\n",
       "      <td>https://a0.muscache.com/pictures/miso/Hosting-...</td>\n",
       "      <td>7378</td>\n",
       "      <td>https://www.airbnb.com/users/show/7378</td>\n",
       "      <td>...</td>\n",
       "      <td>5.00</td>\n",
       "      <td>4.50</td>\n",
       "      <td>5.00</td>\n",
       "      <td>NaN</td>\n",
       "      <td>f</td>\n",
       "      <td>1</td>\n",
       "      <td>1</td>\n",
       "      <td>0</td>\n",
       "      <td>0</td>\n",
       "      <td>0.02</td>\n",
       "    </tr>\n",
       "    <tr>\n",
       "      <th>3</th>\n",
       "      <td>5178</td>\n",
       "      <td>https://www.airbnb.com/rooms/5178</td>\n",
       "      <td>20220603182654</td>\n",
       "      <td>2022-06-04</td>\n",
       "      <td>Large Furnished Room Near B'way</td>\n",
       "      <td>Please don’t expect the luxury here just a bas...</td>\n",
       "      <td>Theater district, many restaurants around here.</td>\n",
       "      <td>https://a0.muscache.com/pictures/12065/f070997...</td>\n",
       "      <td>8967</td>\n",
       "      <td>https://www.airbnb.com/users/show/8967</td>\n",
       "      <td>...</td>\n",
       "      <td>4.44</td>\n",
       "      <td>4.87</td>\n",
       "      <td>4.39</td>\n",
       "      <td>NaN</td>\n",
       "      <td>f</td>\n",
       "      <td>1</td>\n",
       "      <td>0</td>\n",
       "      <td>1</td>\n",
       "      <td>0</td>\n",
       "      <td>3.37</td>\n",
       "    </tr>\n",
       "    <tr>\n",
       "      <th>4</th>\n",
       "      <td>5203</td>\n",
       "      <td>https://www.airbnb.com/rooms/5203</td>\n",
       "      <td>20220603182654</td>\n",
       "      <td>2022-06-03</td>\n",
       "      <td>Cozy Clean Guest Room - Family Apt</td>\n",
       "      <td>Our best guests are seeking a safe, clean, spa...</td>\n",
       "      <td>Our neighborhood is full of restaurants and ca...</td>\n",
       "      <td>https://a0.muscache.com/pictures/103776/b37157...</td>\n",
       "      <td>7490</td>\n",
       "      <td>https://www.airbnb.com/users/show/7490</td>\n",
       "      <td>...</td>\n",
       "      <td>4.95</td>\n",
       "      <td>4.94</td>\n",
       "      <td>4.92</td>\n",
       "      <td>NaN</td>\n",
       "      <td>f</td>\n",
       "      <td>1</td>\n",
       "      <td>0</td>\n",
       "      <td>1</td>\n",
       "      <td>0</td>\n",
       "      <td>0.76</td>\n",
       "    </tr>\n",
       "  </tbody>\n",
       "</table>\n",
       "<p>5 rows × 74 columns</p>\n",
       "</div>"
      ],
      "text/plain": [
       "     id                        listing_url       scrape_id last_scraped  \\\n",
       "0  2595  https://www.airbnb.com/rooms/2595  20220603182654   2022-06-04   \n",
       "1  5121  https://www.airbnb.com/rooms/5121  20220603182654   2022-06-04   \n",
       "2  5136  https://www.airbnb.com/rooms/5136  20220603182654   2022-06-04   \n",
       "3  5178  https://www.airbnb.com/rooms/5178  20220603182654   2022-06-04   \n",
       "4  5203  https://www.airbnb.com/rooms/5203  20220603182654   2022-06-03   \n",
       "\n",
       "                                       name  \\\n",
       "0                     Skylit Midtown Castle   \n",
       "1                           BlissArtsSpace!   \n",
       "2  Spacious Brooklyn Duplex, Patio + Garden   \n",
       "3          Large Furnished Room Near B'way　   \n",
       "4        Cozy Clean Guest Room - Family Apt   \n",
       "\n",
       "                                         description  \\\n",
       "0  Beautiful, spacious skylit studio in the heart...   \n",
       "1  One room available for rent in a 2 bedroom apt...   \n",
       "2  We welcome you to stay in our lovely 2 br dupl...   \n",
       "3  Please don’t expect the luxury here just a bas...   \n",
       "4  Our best guests are seeking a safe, clean, spa...   \n",
       "\n",
       "                               neighborhood_overview  \\\n",
       "0  Centrally located in the heart of Manhattan ju...   \n",
       "1                                                NaN   \n",
       "2                                                NaN   \n",
       "3    Theater district, many restaurants around here.   \n",
       "4  Our neighborhood is full of restaurants and ca...   \n",
       "\n",
       "                                         picture_url  host_id  \\\n",
       "0  https://a0.muscache.com/pictures/f0813a11-40b2...     2845   \n",
       "1  https://a0.muscache.com/pictures/2090980c-b68e...     7356   \n",
       "2  https://a0.muscache.com/pictures/miso/Hosting-...     7378   \n",
       "3  https://a0.muscache.com/pictures/12065/f070997...     8967   \n",
       "4  https://a0.muscache.com/pictures/103776/b37157...     7490   \n",
       "\n",
       "                                 host_url  ... review_scores_communication  \\\n",
       "0  https://www.airbnb.com/users/show/2845  ...                        4.79   \n",
       "1  https://www.airbnb.com/users/show/7356  ...                        4.91   \n",
       "2  https://www.airbnb.com/users/show/7378  ...                        5.00   \n",
       "3  https://www.airbnb.com/users/show/8967  ...                        4.44   \n",
       "4  https://www.airbnb.com/users/show/7490  ...                        4.95   \n",
       "\n",
       "  review_scores_location review_scores_value license instant_bookable  \\\n",
       "0                   4.86                4.41     NaN                f   \n",
       "1                   4.47                4.52     NaN                f   \n",
       "2                   4.50                5.00     NaN                f   \n",
       "3                   4.87                4.39     NaN                f   \n",
       "4                   4.94                4.92     NaN                f   \n",
       "\n",
       "  calculated_host_listings_count calculated_host_listings_count_entire_homes  \\\n",
       "0                              3                                           3   \n",
       "1                              2                                           0   \n",
       "2                              1                                           1   \n",
       "3                              1                                           0   \n",
       "4                              1                                           0   \n",
       "\n",
       "  calculated_host_listings_count_private_rooms  \\\n",
       "0                                            0   \n",
       "1                                            2   \n",
       "2                                            0   \n",
       "3                                            1   \n",
       "4                                            1   \n",
       "\n",
       "  calculated_host_listings_count_shared_rooms reviews_per_month  \n",
       "0                                           0              0.31  \n",
       "1                                           0              0.32  \n",
       "2                                           0              0.02  \n",
       "3                                           0              3.37  \n",
       "4                                           0              0.76  \n",
       "\n",
       "[5 rows x 74 columns]"
      ]
     },
     "execution_count": 2,
     "metadata": {},
     "output_type": "execute_result"
    }
   ],
   "source": [
    "main=pd.read_csv('listings.csv')\n",
    "main.head()"
   ]
  },
  {
   "cell_type": "code",
   "execution_count": 3,
   "id": "0b358e00",
   "metadata": {},
   "outputs": [
    {
     "data": {
      "text/plain": [
       "(37410, 74)"
      ]
     },
     "execution_count": 3,
     "metadata": {},
     "output_type": "execute_result"
    }
   ],
   "source": [
    "main.shape"
   ]
  },
  {
   "cell_type": "code",
   "execution_count": 4,
   "id": "2167b8e5",
   "metadata": {},
   "outputs": [
    {
     "data": {
      "text/plain": [
       "id                                                int64\n",
       "listing_url                                      object\n",
       "scrape_id                                         int64\n",
       "last_scraped                                     object\n",
       "name                                             object\n",
       "                                                 ...   \n",
       "calculated_host_listings_count                    int64\n",
       "calculated_host_listings_count_entire_homes       int64\n",
       "calculated_host_listings_count_private_rooms      int64\n",
       "calculated_host_listings_count_shared_rooms       int64\n",
       "reviews_per_month                               float64\n",
       "Length: 74, dtype: object"
      ]
     },
     "execution_count": 4,
     "metadata": {},
     "output_type": "execute_result"
    }
   ],
   "source": [
    "main.dtypes"
   ]
  },
  {
   "cell_type": "code",
   "execution_count": 5,
   "id": "611da796",
   "metadata": {},
   "outputs": [
    {
     "name": "stdout",
     "output_type": "stream",
     "text": [
      "<class 'pandas.core.frame.DataFrame'>\n",
      "RangeIndex: 37410 entries, 0 to 37409\n",
      "Data columns (total 74 columns):\n",
      " #   Column                                        Non-Null Count  Dtype  \n",
      "---  ------                                        --------------  -----  \n",
      " 0   id                                            37410 non-null  int64  \n",
      " 1   listing_url                                   37410 non-null  object \n",
      " 2   scrape_id                                     37410 non-null  int64  \n",
      " 3   last_scraped                                  37410 non-null  object \n",
      " 4   name                                          37396 non-null  object \n",
      " 5   description                                   36523 non-null  object \n",
      " 6   neighborhood_overview                         22430 non-null  object \n",
      " 7   picture_url                                   37410 non-null  object \n",
      " 8   host_id                                       37410 non-null  int64  \n",
      " 9   host_url                                      37410 non-null  object \n",
      " 10  host_name                                     37344 non-null  object \n",
      " 11  host_since                                    37344 non-null  object \n",
      " 12  host_location                                 37247 non-null  object \n",
      " 13  host_about                                    21054 non-null  object \n",
      " 14  host_response_time                            24200 non-null  object \n",
      " 15  host_response_rate                            24200 non-null  object \n",
      " 16  host_acceptance_rate                          25678 non-null  object \n",
      " 17  host_is_superhost                             37344 non-null  object \n",
      " 18  host_thumbnail_url                            37344 non-null  object \n",
      " 19  host_picture_url                              37344 non-null  object \n",
      " 20  host_neighbourhood                            29868 non-null  object \n",
      " 21  host_listings_count                           37344 non-null  float64\n",
      " 22  host_total_listings_count                     37344 non-null  float64\n",
      " 23  host_verifications                            37410 non-null  object \n",
      " 24  host_has_profile_pic                          37344 non-null  object \n",
      " 25  host_identity_verified                        37344 non-null  object \n",
      " 26  neighbourhood                                 22431 non-null  object \n",
      " 27  neighbourhood_cleansed                        37410 non-null  object \n",
      " 28  neighbourhood_group_cleansed                  37410 non-null  object \n",
      " 29  latitude                                      37410 non-null  float64\n",
      " 30  longitude                                     37410 non-null  float64\n",
      " 31  property_type                                 37410 non-null  object \n",
      " 32  room_type                                     37410 non-null  object \n",
      " 33  accommodates                                  37410 non-null  int64  \n",
      " 34  bathrooms                                     0 non-null      float64\n",
      " 35  bathrooms_text                                37329 non-null  object \n",
      " 36  bedrooms                                      33756 non-null  float64\n",
      " 37  beds                                          36509 non-null  float64\n",
      " 38  amenities                                     37410 non-null  object \n",
      " 39  price                                         37410 non-null  object \n",
      " 40  minimum_nights                                37410 non-null  int64  \n",
      " 41  maximum_nights                                37410 non-null  int64  \n",
      " 42  minimum_minimum_nights                        37395 non-null  float64\n",
      " 43  maximum_minimum_nights                        37395 non-null  float64\n",
      " 44  minimum_maximum_nights                        37395 non-null  float64\n",
      " 45  maximum_maximum_nights                        37395 non-null  float64\n",
      " 46  minimum_nights_avg_ntm                        37395 non-null  float64\n",
      " 47  maximum_nights_avg_ntm                        37395 non-null  float64\n",
      " 48  calendar_updated                              0 non-null      float64\n",
      " 49  has_availability                              37410 non-null  object \n",
      " 50  availability_30                               37410 non-null  int64  \n",
      " 51  availability_60                               37410 non-null  int64  \n",
      " 52  availability_90                               37410 non-null  int64  \n",
      " 53  availability_365                              37410 non-null  int64  \n",
      " 54  calendar_last_scraped                         37410 non-null  object \n",
      " 55  number_of_reviews                             37410 non-null  int64  \n",
      " 56  number_of_reviews_ltm                         37410 non-null  int64  \n",
      " 57  number_of_reviews_l30d                        37410 non-null  int64  \n",
      " 58  first_review                                  29461 non-null  object \n",
      " 59  last_review                                   29461 non-null  object \n",
      " 60  review_scores_rating                          29461 non-null  float64\n",
      " 61  review_scores_accuracy                        28982 non-null  float64\n",
      " 62  review_scores_cleanliness                     28992 non-null  float64\n",
      " 63  review_scores_checkin                         28978 non-null  float64\n",
      " 64  review_scores_communication                   28987 non-null  float64\n",
      " 65  review_scores_location                        28975 non-null  float64\n",
      " 66  review_scores_value                           28975 non-null  float64\n",
      " 67  license                                       4 non-null      object \n",
      " 68  instant_bookable                              37410 non-null  object \n",
      " 69  calculated_host_listings_count                37410 non-null  int64  \n",
      " 70  calculated_host_listings_count_entire_homes   37410 non-null  int64  \n",
      " 71  calculated_host_listings_count_private_rooms  37410 non-null  int64  \n",
      " 72  calculated_host_listings_count_shared_rooms   37410 non-null  int64  \n",
      " 73  reviews_per_month                             29461 non-null  float64\n",
      "dtypes: float64(22), int64(17), object(35)\n",
      "memory usage: 21.1+ MB\n"
     ]
    }
   ],
   "source": [
    "main.info()"
   ]
  },
  {
   "cell_type": "markdown",
   "id": "b9e27f8a",
   "metadata": {},
   "source": [
    "# Removing the Duplicates if any"
   ]
  },
  {
   "cell_type": "code",
   "execution_count": 6,
   "id": "e7da92f7",
   "metadata": {},
   "outputs": [
    {
     "data": {
      "text/plain": [
       "(37410, 74)"
      ]
     },
     "execution_count": 6,
     "metadata": {},
     "output_type": "execute_result"
    }
   ],
   "source": [
    "main.duplicated().sum()\n",
    "main.drop_duplicates().reset_index(drop=True)\n",
    "main.shape"
   ]
  },
  {
   "cell_type": "code",
   "execution_count": 7,
   "id": "d3312b6a",
   "metadata": {},
   "outputs": [
    {
     "data": {
      "text/html": [
       "<div>\n",
       "<style scoped>\n",
       "    .dataframe tbody tr th:only-of-type {\n",
       "        vertical-align: middle;\n",
       "    }\n",
       "\n",
       "    .dataframe tbody tr th {\n",
       "        vertical-align: top;\n",
       "    }\n",
       "\n",
       "    .dataframe thead th {\n",
       "        text-align: right;\n",
       "    }\n",
       "</style>\n",
       "<table border=\"1\" class=\"dataframe\">\n",
       "  <thead>\n",
       "    <tr style=\"text-align: right;\">\n",
       "      <th></th>\n",
       "      <th>id</th>\n",
       "      <th>listing_url</th>\n",
       "      <th>scrape_id</th>\n",
       "      <th>last_scraped</th>\n",
       "      <th>name</th>\n",
       "      <th>description</th>\n",
       "      <th>neighborhood_overview</th>\n",
       "      <th>picture_url</th>\n",
       "      <th>host_id</th>\n",
       "      <th>host_url</th>\n",
       "      <th>...</th>\n",
       "      <th>review_scores_communication</th>\n",
       "      <th>review_scores_location</th>\n",
       "      <th>review_scores_value</th>\n",
       "      <th>license</th>\n",
       "      <th>instant_bookable</th>\n",
       "      <th>calculated_host_listings_count</th>\n",
       "      <th>calculated_host_listings_count_entire_homes</th>\n",
       "      <th>calculated_host_listings_count_private_rooms</th>\n",
       "      <th>calculated_host_listings_count_shared_rooms</th>\n",
       "      <th>reviews_per_month</th>\n",
       "    </tr>\n",
       "  </thead>\n",
       "  <tbody>\n",
       "    <tr>\n",
       "      <th>0</th>\n",
       "      <td>2595</td>\n",
       "      <td>https://www.airbnb.com/rooms/2595</td>\n",
       "      <td>20220603182654</td>\n",
       "      <td>2022-06-04</td>\n",
       "      <td>Skylit Midtown Castle</td>\n",
       "      <td>Beautiful, spacious skylit studio in the heart...</td>\n",
       "      <td>Centrally located in the heart of Manhattan ju...</td>\n",
       "      <td>https://a0.muscache.com/pictures/f0813a11-40b2...</td>\n",
       "      <td>2845</td>\n",
       "      <td>https://www.airbnb.com/users/show/2845</td>\n",
       "      <td>...</td>\n",
       "      <td>4.79</td>\n",
       "      <td>4.86</td>\n",
       "      <td>4.41</td>\n",
       "      <td>NaN</td>\n",
       "      <td>f</td>\n",
       "      <td>3</td>\n",
       "      <td>3</td>\n",
       "      <td>0</td>\n",
       "      <td>0</td>\n",
       "      <td>0.31</td>\n",
       "    </tr>\n",
       "    <tr>\n",
       "      <th>1</th>\n",
       "      <td>5121</td>\n",
       "      <td>https://www.airbnb.com/rooms/5121</td>\n",
       "      <td>20220603182654</td>\n",
       "      <td>2022-06-04</td>\n",
       "      <td>BlissArtsSpace!</td>\n",
       "      <td>One room available for rent in a 2 bedroom apt...</td>\n",
       "      <td>NaN</td>\n",
       "      <td>https://a0.muscache.com/pictures/2090980c-b68e...</td>\n",
       "      <td>7356</td>\n",
       "      <td>https://www.airbnb.com/users/show/7356</td>\n",
       "      <td>...</td>\n",
       "      <td>4.91</td>\n",
       "      <td>4.47</td>\n",
       "      <td>4.52</td>\n",
       "      <td>NaN</td>\n",
       "      <td>f</td>\n",
       "      <td>2</td>\n",
       "      <td>0</td>\n",
       "      <td>2</td>\n",
       "      <td>0</td>\n",
       "      <td>0.32</td>\n",
       "    </tr>\n",
       "    <tr>\n",
       "      <th>2</th>\n",
       "      <td>5136</td>\n",
       "      <td>https://www.airbnb.com/rooms/5136</td>\n",
       "      <td>20220603182654</td>\n",
       "      <td>2022-06-04</td>\n",
       "      <td>Spacious Brooklyn Duplex, Patio + Garden</td>\n",
       "      <td>We welcome you to stay in our lovely 2 br dupl...</td>\n",
       "      <td>NaN</td>\n",
       "      <td>https://a0.muscache.com/pictures/miso/Hosting-...</td>\n",
       "      <td>7378</td>\n",
       "      <td>https://www.airbnb.com/users/show/7378</td>\n",
       "      <td>...</td>\n",
       "      <td>5.00</td>\n",
       "      <td>4.50</td>\n",
       "      <td>5.00</td>\n",
       "      <td>NaN</td>\n",
       "      <td>f</td>\n",
       "      <td>1</td>\n",
       "      <td>1</td>\n",
       "      <td>0</td>\n",
       "      <td>0</td>\n",
       "      <td>0.02</td>\n",
       "    </tr>\n",
       "    <tr>\n",
       "      <th>3</th>\n",
       "      <td>5178</td>\n",
       "      <td>https://www.airbnb.com/rooms/5178</td>\n",
       "      <td>20220603182654</td>\n",
       "      <td>2022-06-04</td>\n",
       "      <td>Large Furnished Room Near B'way</td>\n",
       "      <td>Please don’t expect the luxury here just a bas...</td>\n",
       "      <td>Theater district, many restaurants around here.</td>\n",
       "      <td>https://a0.muscache.com/pictures/12065/f070997...</td>\n",
       "      <td>8967</td>\n",
       "      <td>https://www.airbnb.com/users/show/8967</td>\n",
       "      <td>...</td>\n",
       "      <td>4.44</td>\n",
       "      <td>4.87</td>\n",
       "      <td>4.39</td>\n",
       "      <td>NaN</td>\n",
       "      <td>f</td>\n",
       "      <td>1</td>\n",
       "      <td>0</td>\n",
       "      <td>1</td>\n",
       "      <td>0</td>\n",
       "      <td>3.37</td>\n",
       "    </tr>\n",
       "    <tr>\n",
       "      <th>4</th>\n",
       "      <td>5203</td>\n",
       "      <td>https://www.airbnb.com/rooms/5203</td>\n",
       "      <td>20220603182654</td>\n",
       "      <td>2022-06-03</td>\n",
       "      <td>Cozy Clean Guest Room - Family Apt</td>\n",
       "      <td>Our best guests are seeking a safe, clean, spa...</td>\n",
       "      <td>Our neighborhood is full of restaurants and ca...</td>\n",
       "      <td>https://a0.muscache.com/pictures/103776/b37157...</td>\n",
       "      <td>7490</td>\n",
       "      <td>https://www.airbnb.com/users/show/7490</td>\n",
       "      <td>...</td>\n",
       "      <td>4.95</td>\n",
       "      <td>4.94</td>\n",
       "      <td>4.92</td>\n",
       "      <td>NaN</td>\n",
       "      <td>f</td>\n",
       "      <td>1</td>\n",
       "      <td>0</td>\n",
       "      <td>1</td>\n",
       "      <td>0</td>\n",
       "      <td>0.76</td>\n",
       "    </tr>\n",
       "  </tbody>\n",
       "</table>\n",
       "<p>5 rows × 74 columns</p>\n",
       "</div>"
      ],
      "text/plain": [
       "     id                        listing_url       scrape_id last_scraped  \\\n",
       "0  2595  https://www.airbnb.com/rooms/2595  20220603182654   2022-06-04   \n",
       "1  5121  https://www.airbnb.com/rooms/5121  20220603182654   2022-06-04   \n",
       "2  5136  https://www.airbnb.com/rooms/5136  20220603182654   2022-06-04   \n",
       "3  5178  https://www.airbnb.com/rooms/5178  20220603182654   2022-06-04   \n",
       "4  5203  https://www.airbnb.com/rooms/5203  20220603182654   2022-06-03   \n",
       "\n",
       "                                       name  \\\n",
       "0                     Skylit Midtown Castle   \n",
       "1                           BlissArtsSpace!   \n",
       "2  Spacious Brooklyn Duplex, Patio + Garden   \n",
       "3          Large Furnished Room Near B'way　   \n",
       "4        Cozy Clean Guest Room - Family Apt   \n",
       "\n",
       "                                         description  \\\n",
       "0  Beautiful, spacious skylit studio in the heart...   \n",
       "1  One room available for rent in a 2 bedroom apt...   \n",
       "2  We welcome you to stay in our lovely 2 br dupl...   \n",
       "3  Please don’t expect the luxury here just a bas...   \n",
       "4  Our best guests are seeking a safe, clean, spa...   \n",
       "\n",
       "                               neighborhood_overview  \\\n",
       "0  Centrally located in the heart of Manhattan ju...   \n",
       "1                                                NaN   \n",
       "2                                                NaN   \n",
       "3    Theater district, many restaurants around here.   \n",
       "4  Our neighborhood is full of restaurants and ca...   \n",
       "\n",
       "                                         picture_url  host_id  \\\n",
       "0  https://a0.muscache.com/pictures/f0813a11-40b2...     2845   \n",
       "1  https://a0.muscache.com/pictures/2090980c-b68e...     7356   \n",
       "2  https://a0.muscache.com/pictures/miso/Hosting-...     7378   \n",
       "3  https://a0.muscache.com/pictures/12065/f070997...     8967   \n",
       "4  https://a0.muscache.com/pictures/103776/b37157...     7490   \n",
       "\n",
       "                                 host_url  ... review_scores_communication  \\\n",
       "0  https://www.airbnb.com/users/show/2845  ...                        4.79   \n",
       "1  https://www.airbnb.com/users/show/7356  ...                        4.91   \n",
       "2  https://www.airbnb.com/users/show/7378  ...                        5.00   \n",
       "3  https://www.airbnb.com/users/show/8967  ...                        4.44   \n",
       "4  https://www.airbnb.com/users/show/7490  ...                        4.95   \n",
       "\n",
       "  review_scores_location review_scores_value license instant_bookable  \\\n",
       "0                   4.86                4.41     NaN                f   \n",
       "1                   4.47                4.52     NaN                f   \n",
       "2                   4.50                5.00     NaN                f   \n",
       "3                   4.87                4.39     NaN                f   \n",
       "4                   4.94                4.92     NaN                f   \n",
       "\n",
       "  calculated_host_listings_count calculated_host_listings_count_entire_homes  \\\n",
       "0                              3                                           3   \n",
       "1                              2                                           0   \n",
       "2                              1                                           1   \n",
       "3                              1                                           0   \n",
       "4                              1                                           0   \n",
       "\n",
       "  calculated_host_listings_count_private_rooms  \\\n",
       "0                                            0   \n",
       "1                                            2   \n",
       "2                                            0   \n",
       "3                                            1   \n",
       "4                                            1   \n",
       "\n",
       "  calculated_host_listings_count_shared_rooms reviews_per_month  \n",
       "0                                           0              0.31  \n",
       "1                                           0              0.32  \n",
       "2                                           0              0.02  \n",
       "3                                           0              3.37  \n",
       "4                                           0              0.76  \n",
       "\n",
       "[5 rows x 74 columns]"
      ]
     },
     "execution_count": 7,
     "metadata": {},
     "output_type": "execute_result"
    }
   ],
   "source": [
    "main.head()"
   ]
  },
  {
   "cell_type": "markdown",
   "id": "c9f7a461",
   "metadata": {},
   "source": [
    "# Drop unnecessary columns"
   ]
  },
  {
   "cell_type": "code",
   "execution_count": 117,
   "id": "780b19c0",
   "metadata": {},
   "outputs": [],
   "source": [
    "airbnb=main.filter([\"description\",\"host_is_superhost\",\"host_identity_verified\",\"host_response_time\",\"host_response_rate\",\"price\",\"property_type\"],axis=1).copy().reset_index(drop=True)"
   ]
  },
  {
   "cell_type": "code",
   "execution_count": 118,
   "id": "a7992cc7",
   "metadata": {},
   "outputs": [
    {
     "data": {
      "text/html": [
       "<div>\n",
       "<style scoped>\n",
       "    .dataframe tbody tr th:only-of-type {\n",
       "        vertical-align: middle;\n",
       "    }\n",
       "\n",
       "    .dataframe tbody tr th {\n",
       "        vertical-align: top;\n",
       "    }\n",
       "\n",
       "    .dataframe thead th {\n",
       "        text-align: right;\n",
       "    }\n",
       "</style>\n",
       "<table border=\"1\" class=\"dataframe\">\n",
       "  <thead>\n",
       "    <tr style=\"text-align: right;\">\n",
       "      <th></th>\n",
       "      <th>description</th>\n",
       "      <th>host_is_superhost</th>\n",
       "      <th>host_identity_verified</th>\n",
       "      <th>host_response_time</th>\n",
       "      <th>host_response_rate</th>\n",
       "      <th>price</th>\n",
       "      <th>property_type</th>\n",
       "    </tr>\n",
       "  </thead>\n",
       "  <tbody>\n",
       "    <tr>\n",
       "      <th>0</th>\n",
       "      <td>Beautiful, spacious skylit studio in the heart...</td>\n",
       "      <td>f</td>\n",
       "      <td>t</td>\n",
       "      <td>a few days or more</td>\n",
       "      <td>39%</td>\n",
       "      <td>$225.00</td>\n",
       "      <td>Entire rental unit</td>\n",
       "    </tr>\n",
       "    <tr>\n",
       "      <th>1</th>\n",
       "      <td>One room available for rent in a 2 bedroom apt...</td>\n",
       "      <td>f</td>\n",
       "      <td>t</td>\n",
       "      <td>within an hour</td>\n",
       "      <td>100%</td>\n",
       "      <td>$60.00</td>\n",
       "      <td>Private room in rental unit</td>\n",
       "    </tr>\n",
       "    <tr>\n",
       "      <th>2</th>\n",
       "      <td>We welcome you to stay in our lovely 2 br dupl...</td>\n",
       "      <td>f</td>\n",
       "      <td>t</td>\n",
       "      <td>within an hour</td>\n",
       "      <td>100%</td>\n",
       "      <td>$275.00</td>\n",
       "      <td>Entire rental unit</td>\n",
       "    </tr>\n",
       "    <tr>\n",
       "      <th>3</th>\n",
       "      <td>Please don’t expect the luxury here just a bas...</td>\n",
       "      <td>f</td>\n",
       "      <td>f</td>\n",
       "      <td>within a day</td>\n",
       "      <td>100%</td>\n",
       "      <td>$68.00</td>\n",
       "      <td>Private room in rental unit</td>\n",
       "    </tr>\n",
       "    <tr>\n",
       "      <th>4</th>\n",
       "      <td>Our best guests are seeking a safe, clean, spa...</td>\n",
       "      <td>f</td>\n",
       "      <td>t</td>\n",
       "      <td>NaN</td>\n",
       "      <td>NaN</td>\n",
       "      <td>$75.00</td>\n",
       "      <td>Private room in rental unit</td>\n",
       "    </tr>\n",
       "  </tbody>\n",
       "</table>\n",
       "</div>"
      ],
      "text/plain": [
       "                                         description host_is_superhost  \\\n",
       "0  Beautiful, spacious skylit studio in the heart...                 f   \n",
       "1  One room available for rent in a 2 bedroom apt...                 f   \n",
       "2  We welcome you to stay in our lovely 2 br dupl...                 f   \n",
       "3  Please don’t expect the luxury here just a bas...                 f   \n",
       "4  Our best guests are seeking a safe, clean, spa...                 f   \n",
       "\n",
       "  host_identity_verified  host_response_time host_response_rate    price  \\\n",
       "0                      t  a few days or more                39%  $225.00   \n",
       "1                      t      within an hour               100%   $60.00   \n",
       "2                      t      within an hour               100%  $275.00   \n",
       "3                      f        within a day               100%   $68.00   \n",
       "4                      t                 NaN                NaN   $75.00   \n",
       "\n",
       "                 property_type  \n",
       "0           Entire rental unit  \n",
       "1  Private room in rental unit  \n",
       "2           Entire rental unit  \n",
       "3  Private room in rental unit  \n",
       "4  Private room in rental unit  "
      ]
     },
     "execution_count": 118,
     "metadata": {},
     "output_type": "execute_result"
    }
   ],
   "source": [
    "airbnb.head()"
   ]
  },
  {
   "cell_type": "markdown",
   "id": "240b4780",
   "metadata": {},
   "source": [
    "# Check for the null values in each column"
   ]
  },
  {
   "cell_type": "code",
   "execution_count": 119,
   "id": "e3db8e98",
   "metadata": {},
   "outputs": [
    {
     "data": {
      "text/plain": [
       "(37410, 7)"
      ]
     },
     "execution_count": 119,
     "metadata": {},
     "output_type": "execute_result"
    }
   ],
   "source": [
    "airbnb.shape"
   ]
  },
  {
   "cell_type": "code",
   "execution_count": 120,
   "id": "4fdc4c7a",
   "metadata": {},
   "outputs": [
    {
     "data": {
      "text/plain": [
       "description                 887\n",
       "host_is_superhost            66\n",
       "host_identity_verified       66\n",
       "host_response_time        13210\n",
       "host_response_rate        13210\n",
       "price                         0\n",
       "property_type                 0\n",
       "dtype: int64"
      ]
     },
     "execution_count": 120,
     "metadata": {},
     "output_type": "execute_result"
    }
   ],
   "source": [
    "airbnb.isnull().sum()"
   ]
  },
  {
   "cell_type": "code",
   "execution_count": 121,
   "id": "27fea1dc",
   "metadata": {},
   "outputs": [
    {
     "name": "stdout",
     "output_type": "stream",
     "text": [
      "(23777, 7)\n"
     ]
    },
    {
     "data": {
      "text/plain": [
       "description               0\n",
       "host_is_superhost         0\n",
       "host_identity_verified    0\n",
       "host_response_time        0\n",
       "host_response_rate        0\n",
       "price                     0\n",
       "property_type             0\n",
       "dtype: int64"
      ]
     },
     "execution_count": 121,
     "metadata": {},
     "output_type": "execute_result"
    }
   ],
   "source": [
    "airbnb=airbnb.dropna().reset_index(drop=True)\n",
    "print(airbnb.shape)\n",
    "airbnb.isnull().sum()"
   ]
  },
  {
   "cell_type": "code",
   "execution_count": 122,
   "id": "903c808f",
   "metadata": {},
   "outputs": [
    {
     "data": {
      "text/html": [
       "<div>\n",
       "<style scoped>\n",
       "    .dataframe tbody tr th:only-of-type {\n",
       "        vertical-align: middle;\n",
       "    }\n",
       "\n",
       "    .dataframe tbody tr th {\n",
       "        vertical-align: top;\n",
       "    }\n",
       "\n",
       "    .dataframe thead th {\n",
       "        text-align: right;\n",
       "    }\n",
       "</style>\n",
       "<table border=\"1\" class=\"dataframe\">\n",
       "  <thead>\n",
       "    <tr style=\"text-align: right;\">\n",
       "      <th></th>\n",
       "      <th>description</th>\n",
       "      <th>host_is_superhost</th>\n",
       "      <th>host_identity_verified</th>\n",
       "      <th>host_response_time</th>\n",
       "      <th>host_response_rate</th>\n",
       "      <th>price</th>\n",
       "      <th>property_type</th>\n",
       "    </tr>\n",
       "  </thead>\n",
       "  <tbody>\n",
       "    <tr>\n",
       "      <th>0</th>\n",
       "      <td>Beautiful, spacious skylit studio in the heart...</td>\n",
       "      <td>f</td>\n",
       "      <td>t</td>\n",
       "      <td>a few days or more</td>\n",
       "      <td>39%</td>\n",
       "      <td>$225.00</td>\n",
       "      <td>Entire rental unit</td>\n",
       "    </tr>\n",
       "    <tr>\n",
       "      <th>1</th>\n",
       "      <td>One room available for rent in a 2 bedroom apt...</td>\n",
       "      <td>f</td>\n",
       "      <td>t</td>\n",
       "      <td>within an hour</td>\n",
       "      <td>100%</td>\n",
       "      <td>$60.00</td>\n",
       "      <td>Private room in rental unit</td>\n",
       "    </tr>\n",
       "    <tr>\n",
       "      <th>2</th>\n",
       "      <td>We welcome you to stay in our lovely 2 br dupl...</td>\n",
       "      <td>f</td>\n",
       "      <td>t</td>\n",
       "      <td>within an hour</td>\n",
       "      <td>100%</td>\n",
       "      <td>$275.00</td>\n",
       "      <td>Entire rental unit</td>\n",
       "    </tr>\n",
       "    <tr>\n",
       "      <th>3</th>\n",
       "      <td>Please don’t expect the luxury here just a bas...</td>\n",
       "      <td>f</td>\n",
       "      <td>f</td>\n",
       "      <td>within a day</td>\n",
       "      <td>100%</td>\n",
       "      <td>$68.00</td>\n",
       "      <td>Private room in rental unit</td>\n",
       "    </tr>\n",
       "    <tr>\n",
       "      <th>4</th>\n",
       "      <td>&lt;b&gt;The space&lt;/b&gt;&lt;br /&gt;Beautiful 1br on the Upp...</td>\n",
       "      <td>t</td>\n",
       "      <td>t</td>\n",
       "      <td>within a few hours</td>\n",
       "      <td>100%</td>\n",
       "      <td>$135.00</td>\n",
       "      <td>Entire rental unit</td>\n",
       "    </tr>\n",
       "  </tbody>\n",
       "</table>\n",
       "</div>"
      ],
      "text/plain": [
       "                                         description host_is_superhost  \\\n",
       "0  Beautiful, spacious skylit studio in the heart...                 f   \n",
       "1  One room available for rent in a 2 bedroom apt...                 f   \n",
       "2  We welcome you to stay in our lovely 2 br dupl...                 f   \n",
       "3  Please don’t expect the luxury here just a bas...                 f   \n",
       "4  <b>The space</b><br />Beautiful 1br on the Upp...                 t   \n",
       "\n",
       "  host_identity_verified  host_response_time host_response_rate    price  \\\n",
       "0                      t  a few days or more                39%  $225.00   \n",
       "1                      t      within an hour               100%   $60.00   \n",
       "2                      t      within an hour               100%  $275.00   \n",
       "3                      f        within a day               100%   $68.00   \n",
       "4                      t  within a few hours               100%  $135.00   \n",
       "\n",
       "                 property_type  \n",
       "0           Entire rental unit  \n",
       "1  Private room in rental unit  \n",
       "2           Entire rental unit  \n",
       "3  Private room in rental unit  \n",
       "4           Entire rental unit  "
      ]
     },
     "execution_count": 122,
     "metadata": {},
     "output_type": "execute_result"
    }
   ],
   "source": [
    "airbnb.head()"
   ]
  },
  {
   "cell_type": "code",
   "execution_count": 123,
   "id": "66c74e29",
   "metadata": {},
   "outputs": [],
   "source": [
    "airbnb=pd.DataFrame(airbnb)"
   ]
  },
  {
   "cell_type": "code",
   "execution_count": 124,
   "id": "72e1b2f6",
   "metadata": {},
   "outputs": [
    {
     "data": {
      "text/html": [
       "<div>\n",
       "<style scoped>\n",
       "    .dataframe tbody tr th:only-of-type {\n",
       "        vertical-align: middle;\n",
       "    }\n",
       "\n",
       "    .dataframe tbody tr th {\n",
       "        vertical-align: top;\n",
       "    }\n",
       "\n",
       "    .dataframe thead th {\n",
       "        text-align: right;\n",
       "    }\n",
       "</style>\n",
       "<table border=\"1\" class=\"dataframe\">\n",
       "  <thead>\n",
       "    <tr style=\"text-align: right;\">\n",
       "      <th></th>\n",
       "      <th>description</th>\n",
       "      <th>host_is_superhost</th>\n",
       "      <th>host_identity_verified</th>\n",
       "      <th>host_response_time</th>\n",
       "      <th>host_response_rate</th>\n",
       "      <th>price</th>\n",
       "      <th>property_type</th>\n",
       "    </tr>\n",
       "  </thead>\n",
       "  <tbody>\n",
       "    <tr>\n",
       "      <th>0</th>\n",
       "      <td>Beautiful, spacious skylit studio in the heart...</td>\n",
       "      <td>f</td>\n",
       "      <td>t</td>\n",
       "      <td>a few days or more</td>\n",
       "      <td>39%</td>\n",
       "      <td>$225.00</td>\n",
       "      <td>Entire rental unit</td>\n",
       "    </tr>\n",
       "    <tr>\n",
       "      <th>1</th>\n",
       "      <td>One room available for rent in a 2 bedroom apt...</td>\n",
       "      <td>f</td>\n",
       "      <td>t</td>\n",
       "      <td>within an hour</td>\n",
       "      <td>100%</td>\n",
       "      <td>$60.00</td>\n",
       "      <td>Private room in rental unit</td>\n",
       "    </tr>\n",
       "    <tr>\n",
       "      <th>2</th>\n",
       "      <td>We welcome you to stay in our lovely 2 br dupl...</td>\n",
       "      <td>f</td>\n",
       "      <td>t</td>\n",
       "      <td>within an hour</td>\n",
       "      <td>100%</td>\n",
       "      <td>$275.00</td>\n",
       "      <td>Entire rental unit</td>\n",
       "    </tr>\n",
       "    <tr>\n",
       "      <th>3</th>\n",
       "      <td>Please don’t expect the luxury here just a bas...</td>\n",
       "      <td>f</td>\n",
       "      <td>f</td>\n",
       "      <td>within a day</td>\n",
       "      <td>100%</td>\n",
       "      <td>$68.00</td>\n",
       "      <td>Private room in rental unit</td>\n",
       "    </tr>\n",
       "    <tr>\n",
       "      <th>4</th>\n",
       "      <td>&lt;b&gt;The space&lt;/b&gt;&lt;br /&gt;Beautiful 1br on the Upp...</td>\n",
       "      <td>t</td>\n",
       "      <td>t</td>\n",
       "      <td>within a few hours</td>\n",
       "      <td>100%</td>\n",
       "      <td>$135.00</td>\n",
       "      <td>Entire rental unit</td>\n",
       "    </tr>\n",
       "  </tbody>\n",
       "</table>\n",
       "</div>"
      ],
      "text/plain": [
       "                                         description host_is_superhost  \\\n",
       "0  Beautiful, spacious skylit studio in the heart...                 f   \n",
       "1  One room available for rent in a 2 bedroom apt...                 f   \n",
       "2  We welcome you to stay in our lovely 2 br dupl...                 f   \n",
       "3  Please don’t expect the luxury here just a bas...                 f   \n",
       "4  <b>The space</b><br />Beautiful 1br on the Upp...                 t   \n",
       "\n",
       "  host_identity_verified  host_response_time host_response_rate    price  \\\n",
       "0                      t  a few days or more                39%  $225.00   \n",
       "1                      t      within an hour               100%   $60.00   \n",
       "2                      t      within an hour               100%  $275.00   \n",
       "3                      f        within a day               100%   $68.00   \n",
       "4                      t  within a few hours               100%  $135.00   \n",
       "\n",
       "                 property_type  \n",
       "0           Entire rental unit  \n",
       "1  Private room in rental unit  \n",
       "2           Entire rental unit  \n",
       "3  Private room in rental unit  \n",
       "4           Entire rental unit  "
      ]
     },
     "execution_count": 124,
     "metadata": {},
     "output_type": "execute_result"
    }
   ],
   "source": [
    "airbnb.head()"
   ]
  },
  {
   "cell_type": "markdown",
   "id": "ea52ad81",
   "metadata": {},
   "source": [
    "# Remove HTML TAG "
   ]
  },
  {
   "cell_type": "code",
   "execution_count": 125,
   "id": "86081ce2",
   "metadata": {},
   "outputs": [
    {
     "name": "stdout",
     "output_type": "stream",
     "text": [
      "23777\n"
     ]
    },
    {
     "data": {
      "text/html": [
       "<div>\n",
       "<style scoped>\n",
       "    .dataframe tbody tr th:only-of-type {\n",
       "        vertical-align: middle;\n",
       "    }\n",
       "\n",
       "    .dataframe tbody tr th {\n",
       "        vertical-align: top;\n",
       "    }\n",
       "\n",
       "    .dataframe thead th {\n",
       "        text-align: right;\n",
       "    }\n",
       "</style>\n",
       "<table border=\"1\" class=\"dataframe\">\n",
       "  <thead>\n",
       "    <tr style=\"text-align: right;\">\n",
       "      <th></th>\n",
       "      <th>description</th>\n",
       "      <th>host_is_superhost</th>\n",
       "      <th>host_identity_verified</th>\n",
       "      <th>host_response_time</th>\n",
       "      <th>host_response_rate</th>\n",
       "      <th>price</th>\n",
       "      <th>property_type</th>\n",
       "    </tr>\n",
       "  </thead>\n",
       "  <tbody>\n",
       "    <tr>\n",
       "      <th>0</th>\n",
       "      <td>Beautiful, spacious skylit studio in the heart...</td>\n",
       "      <td>f</td>\n",
       "      <td>t</td>\n",
       "      <td>a few days or more</td>\n",
       "      <td>39%</td>\n",
       "      <td>$225.00</td>\n",
       "      <td>Entire rental unit</td>\n",
       "    </tr>\n",
       "    <tr>\n",
       "      <th>1</th>\n",
       "      <td>One room available for rent in a 2 bedroom apt...</td>\n",
       "      <td>f</td>\n",
       "      <td>t</td>\n",
       "      <td>within an hour</td>\n",
       "      <td>100%</td>\n",
       "      <td>$60.00</td>\n",
       "      <td>Private room in rental unit</td>\n",
       "    </tr>\n",
       "    <tr>\n",
       "      <th>2</th>\n",
       "      <td>We welcome you to stay in our lovely 2 br dupl...</td>\n",
       "      <td>f</td>\n",
       "      <td>t</td>\n",
       "      <td>within an hour</td>\n",
       "      <td>100%</td>\n",
       "      <td>$275.00</td>\n",
       "      <td>Entire rental unit</td>\n",
       "    </tr>\n",
       "    <tr>\n",
       "      <th>3</th>\n",
       "      <td>Please don’t expect the luxury here just a bas...</td>\n",
       "      <td>f</td>\n",
       "      <td>f</td>\n",
       "      <td>within a day</td>\n",
       "      <td>100%</td>\n",
       "      <td>$68.00</td>\n",
       "      <td>Private room in rental unit</td>\n",
       "    </tr>\n",
       "    <tr>\n",
       "      <th>4</th>\n",
       "      <td>The spaceBeautiful 1br on the Upper West Side....</td>\n",
       "      <td>t</td>\n",
       "      <td>t</td>\n",
       "      <td>within a few hours</td>\n",
       "      <td>100%</td>\n",
       "      <td>$135.00</td>\n",
       "      <td>Entire rental unit</td>\n",
       "    </tr>\n",
       "  </tbody>\n",
       "</table>\n",
       "</div>"
      ],
      "text/plain": [
       "                                         description host_is_superhost  \\\n",
       "0  Beautiful, spacious skylit studio in the heart...                 f   \n",
       "1  One room available for rent in a 2 bedroom apt...                 f   \n",
       "2  We welcome you to stay in our lovely 2 br dupl...                 f   \n",
       "3  Please don’t expect the luxury here just a bas...                 f   \n",
       "4  The spaceBeautiful 1br on the Upper West Side....                 t   \n",
       "\n",
       "  host_identity_verified  host_response_time host_response_rate    price  \\\n",
       "0                      t  a few days or more                39%  $225.00   \n",
       "1                      t      within an hour               100%   $60.00   \n",
       "2                      t      within an hour               100%  $275.00   \n",
       "3                      f        within a day               100%   $68.00   \n",
       "4                      t  within a few hours               100%  $135.00   \n",
       "\n",
       "                 property_type  \n",
       "0           Entire rental unit  \n",
       "1  Private room in rental unit  \n",
       "2           Entire rental unit  \n",
       "3  Private room in rental unit  \n",
       "4           Entire rental unit  "
      ]
     },
     "execution_count": 125,
     "metadata": {},
     "output_type": "execute_result"
    }
   ],
   "source": [
    "def remove_tag(lines):\n",
    "    CLEANR = re.compile('<.*?>') \n",
    "    cleantext = re.sub(CLEANR, '', lines)\n",
    "    return cleantext\n",
    "size=airbnb.shape\n",
    "print(size[0])\n",
    "for i in range(0,size[0]):\n",
    "    #print(i)\n",
    "    try:\n",
    "        line=airbnb['description'][i]\n",
    "        line=remove_tag(line)\n",
    "        airbnb['description'][i]=line\n",
    "        line=airbnb['host_response_time'][i]\n",
    "        line=remove_tag(line)\n",
    "        airbnb['host_response_time'][i]=line\n",
    "        line=airbnb['property_type'][i]\n",
    "        line=remove_tag(line)\n",
    "        airbnb['property_type'][i]=line\n",
    "    except:\n",
    "        pass\n",
    "airbnb.head()"
   ]
  },
  {
   "cell_type": "code",
   "execution_count": 126,
   "id": "9aa8ad60",
   "metadata": {},
   "outputs": [
    {
     "data": {
      "text/plain": [
       "0    beautiful, spacious skylit studio in the heart...\n",
       "1    one room available for rent in a 2 bedroom apt...\n",
       "2    we welcome you to stay in our lovely 2 br dupl...\n",
       "Name: description, dtype: object"
      ]
     },
     "execution_count": 126,
     "metadata": {},
     "output_type": "execute_result"
    }
   ],
   "source": [
    "# NORMALIZATION\n",
    "airbnb['description'] = airbnb['description'].str.lower()\n",
    "airbnb['description'].head(3)"
   ]
  },
  {
   "cell_type": "code",
   "execution_count": 127,
   "id": "47ec2d15",
   "metadata": {},
   "outputs": [],
   "source": [
    "# REMOVE LINKS\n",
    "def remove_links(desc):\n",
    "    desc_no_link = re.sub(r\"http\\S+\", \"\", desc)\n",
    "    return desc_no_link\n",
    "airbnb['description'] = np.vectorize(remove_links)(airbnb['description'])"
   ]
  },
  {
   "cell_type": "code",
   "execution_count": 128,
   "id": "4073fa27",
   "metadata": {},
   "outputs": [
    {
     "name": "stderr",
     "output_type": "stream",
     "text": [
      "C:\\Users\\Dell\\AppData\\Local\\Temp\\ipykernel_15792\\2502770076.py:2: FutureWarning: The default value of regex will change from True to False in a future version.\n",
      "  airbnb['description'] = airbnb['description'].str.replace(\"[^a-zA-Z#]\", \" \")\n"
     ]
    }
   ],
   "source": [
    "# REMOVE Punctuations, Numbers, and Special Characters\n",
    "airbnb['description'] = airbnb['description'].str.replace(\"[^a-zA-Z#]\", \" \")"
   ]
  },
  {
   "cell_type": "code",
   "execution_count": 129,
   "id": "304621d6",
   "metadata": {},
   "outputs": [],
   "source": [
    "# REMOVE SHORT WORDS\n",
    "airbnb['description'] = airbnb['description'].apply(lambda x:' '.join([w for w in x.split() if len(w)>3]))"
   ]
  },
  {
   "cell_type": "code",
   "execution_count": null,
   "id": "65cbaccd",
   "metadata": {},
   "outputs": [],
   "source": []
  },
  {
   "cell_type": "code",
   "execution_count": 21,
   "id": "11f6a9da",
   "metadata": {},
   "outputs": [],
   "source": [
    "from keras.preprocessing.text import Tokenizer\n",
    "from keras_preprocessing.sequence import pad_sequences\n",
    "\n",
    "max_words = 500\n",
    "max_len=50\n",
    "\n",
    "def tokenize_pad_sequences(text):\n",
    "    '''\n",
    "    This function tokenize the input text into sequnences of intergers and then\n",
    "    pad each sequence to the same length\n",
    "    '''\n",
    "    # Text tokenization\n",
    "    tokenizer = Tokenizer(num_words=max_words, lower=True, split=' ')\n",
    "    tokenizer.fit_on_texts(text)\n",
    "    # Transforms text to a sequence of integers\n",
    "    X = tokenizer.texts_to_sequences(text)\n",
    "    # Pad sequences to the same length\n",
    "    X = pad_sequences(X, padding='post', maxlen=max_len)\n",
    "    # return sequences\n",
    "    return X, tokenizer\n",
    "\n",
    "X, tokenizer = tokenize_pad_sequences(airbnb['description'])"
   ]
  },
  {
   "cell_type": "code",
   "execution_count": 130,
   "id": "cbfb1fba",
   "metadata": {},
   "outputs": [
    {
     "name": "stderr",
     "output_type": "stream",
     "text": [
      "D:\\ANACODA\\lib\\site-packages\\seaborn\\_decorators.py:36: FutureWarning: Pass the following variable as a keyword arg: x. From version 0.12, the only valid positional argument will be `data`, and passing other arguments without an explicit keyword will result in an error or misinterpretation.\n",
      "  warnings.warn(\n"
     ]
    },
    {
     "data": {
      "text/plain": [
       "Text(0.5, 1.0, 'Restaurants delivering online or Not')"
      ]
     },
     "execution_count": 130,
     "metadata": {},
     "output_type": "execute_result"
    },
    {
     "data": {
      "image/png": "[encoded data removed]",
      "text/plain": [
       "<Figure size 3600x3600 with 1 Axes>"
      ]
     },
     "metadata": {
      "needs_background": "light"
     },
     "output_type": "display_data"
    }
   ],
   "source": [
    "sns.countplot(airbnb['property_type'], palette=\"plasma\")\n",
    "fig = plt.gcf()\n",
    "fig.set_size_inches(50,50)\n",
    "plt.title('Restaurants delivering online or Not')"
   ]
  },
  {
   "cell_type": "code",
   "execution_count": 131,
   "id": "40839803",
   "metadata": {},
   "outputs": [
    {
     "data": {
      "text/html": [
       "<div>\n",
       "<style scoped>\n",
       "    .dataframe tbody tr th:only-of-type {\n",
       "        vertical-align: middle;\n",
       "    }\n",
       "\n",
       "    .dataframe tbody tr th {\n",
       "        vertical-align: top;\n",
       "    }\n",
       "\n",
       "    .dataframe thead th {\n",
       "        text-align: right;\n",
       "    }\n",
       "</style>\n",
       "<table border=\"1\" class=\"dataframe\">\n",
       "  <thead>\n",
       "    <tr style=\"text-align: right;\">\n",
       "      <th></th>\n",
       "      <th>description</th>\n",
       "      <th>host_is_superhost</th>\n",
       "      <th>host_identity_verified</th>\n",
       "      <th>host_response_time</th>\n",
       "      <th>host_response_rate</th>\n",
       "      <th>price</th>\n",
       "      <th>property_type</th>\n",
       "      <th>property_type_label</th>\n",
       "    </tr>\n",
       "  </thead>\n",
       "  <tbody>\n",
       "    <tr>\n",
       "      <th>0</th>\n",
       "      <td>beautiful spacious skylit studio heart midtown...</td>\n",
       "      <td>f</td>\n",
       "      <td>t</td>\n",
       "      <td>a few days or more</td>\n",
       "      <td>39%</td>\n",
       "      <td>$225.00</td>\n",
       "      <td>Entire rental unit</td>\n",
       "      <td>14</td>\n",
       "    </tr>\n",
       "    <tr>\n",
       "      <th>1</th>\n",
       "      <td>room available rent bedroom bklyn share common...</td>\n",
       "      <td>f</td>\n",
       "      <td>t</td>\n",
       "      <td>within an hour</td>\n",
       "      <td>100%</td>\n",
       "      <td>$60.00</td>\n",
       "      <td>Private room in rental unit</td>\n",
       "      <td>40</td>\n",
       "    </tr>\n",
       "    <tr>\n",
       "      <th>2</th>\n",
       "      <td>welcome stay lovely duplex south slope brookly...</td>\n",
       "      <td>f</td>\n",
       "      <td>t</td>\n",
       "      <td>within an hour</td>\n",
       "      <td>100%</td>\n",
       "      <td>$275.00</td>\n",
       "      <td>Entire rental unit</td>\n",
       "      <td>14</td>\n",
       "    </tr>\n",
       "    <tr>\n",
       "      <th>3</th>\n",
       "      <td>please expect luxury here just basic room cent...</td>\n",
       "      <td>f</td>\n",
       "      <td>f</td>\n",
       "      <td>within a day</td>\n",
       "      <td>100%</td>\n",
       "      <td>$68.00</td>\n",
       "      <td>Private room in rental unit</td>\n",
       "      <td>40</td>\n",
       "    </tr>\n",
       "    <tr>\n",
       "      <th>4</th>\n",
       "      <td>spacebeautiful upper west side apartment great...</td>\n",
       "      <td>t</td>\n",
       "      <td>t</td>\n",
       "      <td>within a few hours</td>\n",
       "      <td>100%</td>\n",
       "      <td>$135.00</td>\n",
       "      <td>Entire rental unit</td>\n",
       "      <td>14</td>\n",
       "    </tr>\n",
       "  </tbody>\n",
       "</table>\n",
       "</div>"
      ],
      "text/plain": [
       "                                         description host_is_superhost  \\\n",
       "0  beautiful spacious skylit studio heart midtown...                 f   \n",
       "1  room available rent bedroom bklyn share common...                 f   \n",
       "2  welcome stay lovely duplex south slope brookly...                 f   \n",
       "3  please expect luxury here just basic room cent...                 f   \n",
       "4  spacebeautiful upper west side apartment great...                 t   \n",
       "\n",
       "  host_identity_verified  host_response_time host_response_rate    price  \\\n",
       "0                      t  a few days or more                39%  $225.00   \n",
       "1                      t      within an hour               100%   $60.00   \n",
       "2                      t      within an hour               100%  $275.00   \n",
       "3                      f        within a day               100%   $68.00   \n",
       "4                      t  within a few hours               100%  $135.00   \n",
       "\n",
       "                 property_type  property_type_label  \n",
       "0           Entire rental unit                   14  \n",
       "1  Private room in rental unit                   40  \n",
       "2           Entire rental unit                   14  \n",
       "3  Private room in rental unit                   40  \n",
       "4           Entire rental unit                   14  "
      ]
     },
     "execution_count": 131,
     "metadata": {},
     "output_type": "execute_result"
    }
   ],
   "source": [
    "airbnb_en=airbnb\n",
    "from sklearn.preprocessing import LabelEncoder\n",
    "\n",
    "# Encode target labels\n",
    "le = LabelEncoder()\n",
    "Y = le.fit_transform(airbnb['property_type'])\n",
    "airbnb['property_type_label']=Y\n",
    "airbnb.head()"
   ]
  },
  {
   "cell_type": "code",
   "execution_count": 132,
   "id": "783cbc1d",
   "metadata": {},
   "outputs": [],
   "source": [
    "#Y = le.fit_transform(airbnb['price'])\n",
    "#airbnb['price_label']=Y\n",
    "#airbnb.head()"
   ]
  },
  {
   "cell_type": "code",
   "execution_count": 133,
   "id": "b893d309",
   "metadata": {},
   "outputs": [],
   "source": [
    "#Y = le.fit_transform(airbnb['description'])\n",
    "#airbnb['description_label']=Y\n",
    "#airbnb.head()"
   ]
  },
  {
   "cell_type": "code",
   "execution_count": 134,
   "id": "1cab7e4c",
   "metadata": {},
   "outputs": [],
   "source": [
    "#Y = le.fit_transform(airbnb['host_is_superhost'])\n",
    "#airbnb['host_is_superhost_label']=Y\n",
    "#airbnb.head()"
   ]
  },
  {
   "cell_type": "code",
   "execution_count": 135,
   "id": "cdb491f9",
   "metadata": {},
   "outputs": [],
   "source": [
    "#Y = le.fit_transform(airbnb['host_identity_verified'])\n",
    "#airbnb['host_identity_verified_label']=Y\n",
    "#airbnb.head()"
   ]
  },
  {
   "cell_type": "code",
   "execution_count": 136,
   "id": "91946eb4",
   "metadata": {},
   "outputs": [],
   "source": [
    "#Y = le.fit_transform(airbnb['host_response_time'])\n",
    "#airbnb['host_response_time_label']=Y\n",
    "#airbnb.head()"
   ]
  },
  {
   "cell_type": "code",
   "execution_count": 137,
   "id": "406841ca",
   "metadata": {},
   "outputs": [],
   "source": [
    "#Y = le.fit_transform(airbnb['host_response_rate'])\n",
    "#airbnb['host_response_rate_label']=Y\n",
    "#airbnb.head()"
   ]
  },
  {
   "cell_type": "markdown",
   "id": "4133b470",
   "metadata": {},
   "source": [
    "# Bi-LSTM"
   ]
  },
  {
   "cell_type": "code",
   "execution_count": 30,
   "id": "1cc6bc82",
   "metadata": {},
   "outputs": [],
   "source": [
    "from keras.models import Sequential\n",
    "from keras.layers import Embedding, Conv1D, MaxPooling1D, Bidirectional, LSTM, Dense, Dropout\n",
    "from keras.metrics import Precision, Recall\n",
    "from keras.optimizers import SGD\n",
    "from keras.optimizers import RMSprop\n",
    "from keras import datasets\n",
    "\n",
    "from keras.layers import Layer\n",
    "\n",
    "import keras.backend as K\n",
    "\n",
    "from keras.callbacks import LearningRateScheduler\n",
    "from keras.callbacks import History\n",
    "\n",
    "from keras import losses\n",
    "\n",
    "class attention(Layer):\n",
    "    def __init__(self,**kwargs):\n",
    "        super(attention,self).__init__(**kwargs)\n",
    "\n",
    "    def build(self,input_shape):\n",
    "        self.W=self.add_weight(name=\"att_weight\",shape=(input_shape[-1],1),initializer=\"normal\")\n",
    "        self.b=self.add_weight(name=\"att_bias\",shape=(input_shape[1],1),initializer=\"zeros\")        \n",
    "        super(attention, self).build(input_shape)\n",
    "\n",
    "    def call(self,x):\n",
    "        et=K.squeeze(K.tanh(K.dot(x,self.W)+self.b),axis=-1)\n",
    "        at=K.softmax(et)\n",
    "        at=K.expand_dims(at,axis=-1)\n",
    "        output=x*at\n",
    "        return K.sum(output,axis=1)\n",
    "\n",
    "    def compute_output_shape(self,input_shape):\n",
    "        return (input_shape[0],input_shape[-1])\n",
    "\n",
    "    def get_config(self):\n",
    "        return super(attention,self).get_config()"
   ]
  },
  {
   "cell_type": "code",
   "execution_count": 92,
   "id": "b1c8fe7e",
   "metadata": {},
   "outputs": [],
   "source": [
    "vocab_size = 73654\n",
    "embedding_size = 200\n",
    "epochs=100\n",
    "learning_rate = 0.1\n",
    "decay_rate = learning_rate / epochs\n",
    "momentum = 0.8\n",
    "\n",
    "sgd = SGD(learning_rate=learning_rate, momentum=momentum, decay=decay_rate, nesterov=False)\n",
    "# Build model\n",
    "model= Sequential()\n",
    "model.add(Embedding(vocab_size, embedding_size, input_length=50))\n",
    "model.add(Bidirectional(LSTM(256,return_sequences=True)))\n",
    "model.add(attention())\n",
    "model.add(Dropout(0.5))\n",
    "model.add(Dense(5, activation='softmax'))\n"
   ]
  },
  {
   "cell_type": "code",
   "execution_count": 93,
   "id": "bde350a6",
   "metadata": {},
   "outputs": [
    {
     "data": {
      "image/png": "[encoded data removed]",
      "text/plain": [
       "<IPython.core.display.Image object>"
      ]
     },
     "execution_count": 93,
     "metadata": {},
     "output_type": "execute_result"
    }
   ],
   "source": [
    "tf.keras.utils.plot_model(model, show_shapes=True)"
   ]
  },
  {
   "cell_type": "markdown",
   "id": "b8bea9ea",
   "metadata": {},
   "source": [
    "\n",
    "# Sentiment Analyzer"
   ]
  },
  {
   "cell_type": "code",
   "execution_count": 138,
   "id": "8e18ee84",
   "metadata": {},
   "outputs": [],
   "source": [
    "# Create an object of Vader Sentiment Analyzer\n",
    "vader_analyzer = SentimentIntensityAnalyzer()\n",
    "negative = []\n",
    "neutral = []\n",
    "positive = []\n",
    "compound = []"
   ]
  },
  {
   "cell_type": "code",
   "execution_count": 139,
   "id": "5fdbd6c4",
   "metadata": {},
   "outputs": [],
   "source": [
    "def sentiment_scores(df, negative, neutral, positive, compound):\n",
    "    for i in df['description']:\n",
    "        sentiment_dict = vader_analyzer.polarity_scores(i)\n",
    "        negative.append(sentiment_dict['neg'])\n",
    "        neutral.append(sentiment_dict['neu'])\n",
    "        positive.append(sentiment_dict['pos'])\n",
    "        compound.append(sentiment_dict['compound'])"
   ]
  },
  {
   "cell_type": "code",
   "execution_count": 140,
   "id": "b7c02499",
   "metadata": {},
   "outputs": [],
   "source": [
    "sentiment_scores(airbnb, negative, neutral, positive, compound)"
   ]
  },
  {
   "cell_type": "code",
   "execution_count": 141,
   "id": "5bf23f08",
   "metadata": {},
   "outputs": [],
   "source": [
    "#airbnb[\"negative\"] = negative\n",
    "#airbnb[\"neutral\"] = neutral\n",
    "#airbnb[\"positive\"] = positive\n",
    "#airbnb[\"compound\"] = compound\n",
    "\n",
    "sentiment = []\n",
    "for i in compound:\n",
    "    if i >= 0.5 : \n",
    "        sentiment.append(2)\n",
    "    \n",
    "    elif i>= 0.1 and i< 0.5 :\n",
    "        sentiment.append(1)\n",
    "\n",
    "    elif i> - 0.1 and i< 0.1 :\n",
    "        sentiment.append(0)\n",
    "    \n",
    "    elif i <= - 0.1 and i> - 0.5 : \n",
    "        sentiment.append(-1) \n",
    "    \n",
    "    elif i <= - 0.5 : \n",
    "        sentiment.append(-2) \n",
    "        \n",
    "airbnb['sentiment'] = sentiment\n",
    "\n",
    "neg_tweets = airbnb.sentiment.value_counts()[-1]\n",
    "neu_tweets = airbnb.sentiment.value_counts()[0]\n",
    "pos_tweets = airbnb.sentiment.value_counts()[1]"
   ]
  },
  {
   "cell_type": "code",
   "execution_count": 142,
   "id": "39e68d8f",
   "metadata": {},
   "outputs": [
    {
     "data": {
      "text/html": [
       "<div>\n",
       "<style scoped>\n",
       "    .dataframe tbody tr th:only-of-type {\n",
       "        vertical-align: middle;\n",
       "    }\n",
       "\n",
       "    .dataframe tbody tr th {\n",
       "        vertical-align: top;\n",
       "    }\n",
       "\n",
       "    .dataframe thead th {\n",
       "        text-align: right;\n",
       "    }\n",
       "</style>\n",
       "<table border=\"1\" class=\"dataframe\">\n",
       "  <thead>\n",
       "    <tr style=\"text-align: right;\">\n",
       "      <th></th>\n",
       "      <th>description</th>\n",
       "      <th>host_is_superhost</th>\n",
       "      <th>host_identity_verified</th>\n",
       "      <th>host_response_time</th>\n",
       "      <th>host_response_rate</th>\n",
       "      <th>price</th>\n",
       "      <th>property_type</th>\n",
       "      <th>property_type_label</th>\n",
       "      <th>sentiment</th>\n",
       "    </tr>\n",
       "  </thead>\n",
       "  <tbody>\n",
       "    <tr>\n",
       "      <th>0</th>\n",
       "      <td>beautiful spacious skylit studio heart midtown...</td>\n",
       "      <td>f</td>\n",
       "      <td>t</td>\n",
       "      <td>a few days or more</td>\n",
       "      <td>39%</td>\n",
       "      <td>$225.00</td>\n",
       "      <td>Entire rental unit</td>\n",
       "      <td>14</td>\n",
       "      <td>2</td>\n",
       "    </tr>\n",
       "    <tr>\n",
       "      <th>1</th>\n",
       "      <td>room available rent bedroom bklyn share common...</td>\n",
       "      <td>f</td>\n",
       "      <td>t</td>\n",
       "      <td>within an hour</td>\n",
       "      <td>100%</td>\n",
       "      <td>$60.00</td>\n",
       "      <td>Private room in rental unit</td>\n",
       "      <td>40</td>\n",
       "      <td>2</td>\n",
       "    </tr>\n",
       "    <tr>\n",
       "      <th>2</th>\n",
       "      <td>welcome stay lovely duplex south slope brookly...</td>\n",
       "      <td>f</td>\n",
       "      <td>t</td>\n",
       "      <td>within an hour</td>\n",
       "      <td>100%</td>\n",
       "      <td>$275.00</td>\n",
       "      <td>Entire rental unit</td>\n",
       "      <td>14</td>\n",
       "      <td>2</td>\n",
       "    </tr>\n",
       "    <tr>\n",
       "      <th>3</th>\n",
       "      <td>please expect luxury here just basic room cent...</td>\n",
       "      <td>f</td>\n",
       "      <td>f</td>\n",
       "      <td>within a day</td>\n",
       "      <td>100%</td>\n",
       "      <td>$68.00</td>\n",
       "      <td>Private room in rental unit</td>\n",
       "      <td>40</td>\n",
       "      <td>2</td>\n",
       "    </tr>\n",
       "    <tr>\n",
       "      <th>4</th>\n",
       "      <td>spacebeautiful upper west side apartment great...</td>\n",
       "      <td>t</td>\n",
       "      <td>t</td>\n",
       "      <td>within a few hours</td>\n",
       "      <td>100%</td>\n",
       "      <td>$135.00</td>\n",
       "      <td>Entire rental unit</td>\n",
       "      <td>14</td>\n",
       "      <td>2</td>\n",
       "    </tr>\n",
       "  </tbody>\n",
       "</table>\n",
       "</div>"
      ],
      "text/plain": [
       "                                         description host_is_superhost  \\\n",
       "0  beautiful spacious skylit studio heart midtown...                 f   \n",
       "1  room available rent bedroom bklyn share common...                 f   \n",
       "2  welcome stay lovely duplex south slope brookly...                 f   \n",
       "3  please expect luxury here just basic room cent...                 f   \n",
       "4  spacebeautiful upper west side apartment great...                 t   \n",
       "\n",
       "  host_identity_verified  host_response_time host_response_rate    price  \\\n",
       "0                      t  a few days or more                39%  $225.00   \n",
       "1                      t      within an hour               100%   $60.00   \n",
       "2                      t      within an hour               100%  $275.00   \n",
       "3                      f        within a day               100%   $68.00   \n",
       "4                      t  within a few hours               100%  $135.00   \n",
       "\n",
       "                 property_type  property_type_label  sentiment  \n",
       "0           Entire rental unit                   14          2  \n",
       "1  Private room in rental unit                   40          2  \n",
       "2           Entire rental unit                   14          2  \n",
       "3  Private room in rental unit                   40          2  \n",
       "4           Entire rental unit                   14          2  "
      ]
     },
     "execution_count": 142,
     "metadata": {},
     "output_type": "execute_result"
    }
   ],
   "source": [
    "airbnb.head()"
   ]
  },
  {
   "cell_type": "markdown",
   "id": "83ffc9d0",
   "metadata": {},
   "source": [
    "TEST AND SLIPT"
   ]
  },
  {
   "cell_type": "code",
   "execution_count": 143,
   "id": "552115c2",
   "metadata": {},
   "outputs": [],
   "source": [
    "y = pd.get_dummies(airbnb['sentiment'])\n",
    "X_train, X_test, y_train, y_test = train_test_split(X, y, test_size=0.2, random_state=1)\n",
    "X_train, X_val, y_train, y_val = train_test_split(X_train, y_train, test_size=0.25, random_state=1)"
   ]
  },
  {
   "cell_type": "code",
   "execution_count": null,
   "id": "4b9465dc",
   "metadata": {
    "scrolled": true
   },
   "outputs": [
    {
     "name": "stdout",
     "output_type": "stream",
     "text": [
      "Model: \"sequential_9\"\n",
      "_________________________________________________________________\n",
      " Layer (type)                Output Shape              Param #   \n",
      "=================================================================\n",
      " embedding_9 (Embedding)     (None, 50, 200)           14730800  \n",
      "                                                                 \n",
      " bidirectional_9 (Bidirectio  (None, 50, 512)          935936    \n",
      " nal)                                                            \n",
      "                                                                 \n",
      " attention_9 (attention)     (None, 512)               562       \n",
      "                                                                 \n",
      " dropout_5 (Dropout)         (None, 512)               0         \n",
      "                                                                 \n",
      " dense_9 (Dense)             (None, 5)                 2565      \n",
      "                                                                 \n",
      "=================================================================\n",
      "Total params: 15,669,863\n",
      "Trainable params: 15,669,863\n",
      "Non-trainable params: 0\n",
      "_________________________________________________________________\n",
      "None\n",
      "Epoch 1/100\n",
      " 59/143 [===========>..................] - ETA: 27s - loss: 0.5351 - accuracy: 0.8790 - precision_8: 0.8889 - recall_8: 0.8329"
     ]
    }
   ],
   "source": [
    "print(model.summary())\n",
    "\n",
    "# Compile model\n",
    "model.compile(loss='categorical_crossentropy', optimizer=sgd, \n",
    "               metrics=['accuracy', Precision(), Recall()])\n",
    "\n",
    "# Train model\n",
    "\n",
    "batch_size = 100\n",
    "history = model.fit(X_train, y_train,validation_data=(X_val, y_val),batch_size=batch_size, epochs=epochs, verbose=1)"
   ]
  },
  {
   "cell_type": "code",
   "execution_count": 64,
   "id": "e36102de",
   "metadata": {},
   "outputs": [
    {
     "data": {
      "image/png": "[encoded data removed]",
      "text/plain": [
       "<Figure size 432x288 with 1 Axes>"
      ]
     },
     "metadata": {
      "needs_background": "light"
     },
     "output_type": "display_data"
    }
   ],
   "source": [
    "from matplotlib import pyplot\n",
    "pyplot.plot(history.history['loss'])\n",
    "pyplot.plot(history.history['accuracy'])\n",
    "pyplot.title('model loss vs accuracy')\n",
    "pyplot.xlabel('epoch')\n",
    "pyplot.legend(['loss', 'accuracy'], loc='upper right')\n",
    "pyplot.show() "
   ]
  },
  {
   "cell_type": "code",
   "execution_count": 65,
   "id": "f194fb22",
   "metadata": {},
   "outputs": [],
   "source": [
    "import keras.backend as K\n",
    "import textstat\n",
    "\n",
    "def f1_score(precision, recall):\n",
    "    ''' Function to calculate f1 score '''\n",
    "    \n",
    "    f1_val = 2*(precision*recall)/(precision+recall+K.epsilon())\n",
    "    return f1_val"
   ]
  },
  {
   "cell_type": "code",
   "execution_count": 66,
   "id": "d19e7816",
   "metadata": {},
   "outputs": [
    {
     "name": "stdout",
     "output_type": "stream",
     "text": [
      "\n",
      "Accuracy  : 0.9571\n",
      "Precision : 0.9607\n",
      "Recall    : 0.9519\n",
      "F1 Score  : 0.9563\n"
     ]
    }
   ],
   "source": [
    "# Evaluate model on the test set\n",
    "loss, accuracy, precision, recall = model.evaluate(X_test, y_test, verbose=0)\n",
    "# Print metrics\n",
    "print('')\n",
    "print('Accuracy  : {:.4f}'.format(accuracy))\n",
    "print('Precision : {:.4f}'.format(precision))\n",
    "print('Recall    : {:.4f}'.format(recall))\n",
    "print('F1 Score  : {:.4f}'.format(f1_score(precision, recall)))"
   ]
  },
  {
   "cell_type": "code",
   "execution_count": 67,
   "id": "2688c52a",
   "metadata": {},
   "outputs": [
    {
     "name": "stdout",
     "output_type": "stream",
     "text": [
      "149/149 [==============================] - 14s 82ms/step\n"
     ]
    },
    {
     "data": {
      "image/png": "[encoded data removed]",
      "text/plain": [
       "<Figure size 576x432 with 2 Axes>"
      ]
     },
     "metadata": {
      "needs_background": "light"
     },
     "output_type": "display_data"
    }
   ],
   "source": [
    "from sklearn.metrics import confusion_matrix\n",
    "\n",
    "def plot_confusion_matrix(model, X_test, y_test):\n",
    "    '''Function to plot confusion matrix for the passed model and the data'''\n",
    "    \n",
    "    sentiment_classes = ['Negative', 'Neutral', 'Positive']\n",
    "    # use model to do the prediction\n",
    "    y_pred = model.predict(X_test)\n",
    "    # compute confusion matrix\n",
    "    cm = confusion_matrix(np.argmax(np.array(y_test),axis=1), np.argmax(y_pred, axis=1))\n",
    "    # plot confusion matrix\n",
    "    plt.figure(figsize=(8,6))\n",
    "    sns.heatmap(cm, cmap=plt.cm.Blues, annot=True, fmt='d', \n",
    "                xticklabels=sentiment_classes,\n",
    "                yticklabels=sentiment_classes)\n",
    "    plt.title('Confusion matrix', fontsize=16)\n",
    "    plt.xlabel('Actual label', fontsize=12)\n",
    "    plt.ylabel('Predicted label', fontsize=12)\n",
    "    \n",
    "plot_confusion_matrix(model, X_test, y_test)\n"
   ]
  },
  {
   "cell_type": "code",
   "execution_count": 68,
   "id": "31d18c6d",
   "metadata": {},
   "outputs": [
    {
     "name": "stdout",
     "output_type": "stream",
     "text": [
      "Best model saved\n"
     ]
    }
   ],
   "source": [
    "#model.save('best_model.h5')\n",
    "#print('Best model saved')\n",
    "\n",
    "from keras.models import load_model\n",
    "\n",
    "# Load model\n",
    "#model = load_model('best_model.h5')\n",
    "\n",
    "def predict_class(text):\n",
    "    '''Function to predict sentiment class of the passed text'''\n",
    "    \n",
    "    sentiment_classes = ['Negative', 'Neutral', 'Positive']\n",
    "    max_len=50\n",
    "    \n",
    "    # Transforms text to a sequence of integers using a tokenizer object\n",
    "    xt = tokenizer.texts_to_sequences(text)\n",
    "    # Pad sequences to the same length\n",
    "    xt = pad_sequences(xt, padding='post', maxlen=max_len)\n",
    "    # Do the prediction using the loaded model\n",
    "    yt = model.predict(xt).argmax(axis=1)\n",
    "    # Print the predicted sentiment\n",
    "    print('The predicted sentiment is', sentiment_classes[yt[0]])"
   ]
  },
  {
   "cell_type": "code",
   "execution_count": 78,
   "id": "7876ac77",
   "metadata": {},
   "outputs": [
    {
     "name": "stdout",
     "output_type": "stream",
     "text": [
      "1/1 [==============================] - 0s 18ms/step\n",
      "The predicted sentiment is Positive\n"
     ]
    }
   ],
   "source": [
    "predict_class(['I can help you enjoy your experience in this beautiful city'])"
   ]
  },
  {
   "cell_type": "code",
   "execution_count": 79,
   "id": "a4ccb051",
   "metadata": {},
   "outputs": [
    {
     "name": "stdout",
     "output_type": "stream",
     "text": [
      "1/1 [==============================] - 0s 19ms/step\n",
      "The predicted sentiment is Positive\n"
     ]
    }
   ],
   "source": [
    "predict_class(['I can help you enjoy your experience in this beautiful city'])"
   ]
  },
  {
   "cell_type": "code",
   "execution_count": 80,
   "id": "05698d16",
   "metadata": {},
   "outputs": [
    {
     "name": "stdout",
     "output_type": "stream",
     "text": [
      "1/1 [==============================] - 0s 18ms/step\n",
      "The predicted sentiment is Neutral\n"
     ]
    }
   ],
   "source": [
    "predict_class(['The food was meh'])"
   ]
  },
  {
   "cell_type": "code",
   "execution_count": 81,
   "id": "f61e8506",
   "metadata": {},
   "outputs": [
    {
     "name": "stdout",
     "output_type": "stream",
     "text": [
      "1/1 [==============================] - 0s 20ms/step\n",
      "The predicted sentiment is Neutral\n"
     ]
    }
   ],
   "source": [
    "predict_class(['This motel is my worst'])"
   ]
  },
  {
   "cell_type": "code",
   "execution_count": 82,
   "id": "9b6b266f",
   "metadata": {},
   "outputs": [],
   "source": [
    "import nltk\n",
    "from nltk.corpus import stopwords  #stopwords\n",
    "from nltk.stem import WordNetLemmatizer  \n",
    "from sklearn.feature_extraction.text import TfidfVectorizer\n",
    "stop_words=set(nltk.corpus.stopwords.words('english'))"
   ]
  },
  {
   "cell_type": "code",
   "execution_count": 83,
   "id": "c2f5773c",
   "metadata": {},
   "outputs": [],
   "source": [
    "vect =TfidfVectorizer(stop_words=stop_words,max_features=1000)\n",
    "vect_text=vect.fit_transform(airbnb['description'])"
   ]
  },
  {
   "cell_type": "code",
   "execution_count": 84,
   "id": "99cad316",
   "metadata": {},
   "outputs": [],
   "source": [
    "from sklearn.decomposition import LatentDirichletAllocation\n",
    "lda_model=LatentDirichletAllocation(n_components=10,\n",
    "learning_method='online',random_state=42,max_iter=1) \n",
    "lda_top=lda_model.fit_transform(vect_text)"
   ]
  },
  {
   "cell_type": "code",
   "execution_count": 86,
   "id": "888ca436",
   "metadata": {},
   "outputs": [
    {
     "name": "stdout",
     "output_type": "stream",
     "text": [
      "Topic  0 :  1.2520285472484913 %\n",
      "Topic  1 :  1.2519399870425922 %\n",
      "Topic  2 :  1.25234475230419 %\n",
      "Topic  3 :  53.47722357398165 %\n",
      "Topic  4 :  1.2523516354442938 %\n",
      "Topic  5 :  36.50564928525376 %\n",
      "Topic  6 :  1.2525670615273468 %\n",
      "Topic  7 :  1.2519119079132959 %\n",
      "Topic  8 :  1.252074493051648 %\n",
      "Topic  9 :  1.2519087562327262 %\n"
     ]
    }
   ],
   "source": [
    "for i,topic in enumerate(lda_top[0]):\n",
    "  print(\"Topic \",i,\": \",topic*100,\"%\")"
   ]
  },
  {
   "cell_type": "code",
   "execution_count": 87,
   "id": "eff5a9da",
   "metadata": {},
   "outputs": [
    {
     "name": "stdout",
     "output_type": "stream",
     "text": [
      "\n",
      "\n",
      "Topic 0: \n",
      "village   64.85136582969048 soho   43.12198083653537 chinatown   37.94455401622837 east   35.723159850182384 italy   32.24147151999536 little   24.769116352517205 west   22.02084378505094 lower   14.539081741707813 heart   13.410251034909734 side   12.821253713009241 \n",
      "\n",
      "Topic 1: \n",
      "check   77.27460202183713 note   37.79801624628276 sent   32.39535958016935 date   32.13183411979895 reservation   30.160444260764677 must   27.779446737395716 submit   25.904445278232792 circle   23.5859065813771 columbus   23.383858832129555 things   22.739422536136615 \n",
      "\n",
      "Topic 2: \n",
      "centrally   297.7285036831903 minutes   249.2813390875199 train   196.41513338214097 located   193.2518381066662 mins   178.6835534685275 close   175.57852303199365 away   174.93717751076443 park   162.3547754045684 restaurants   158.20210404267095 airport   150.44587407283578 \n",
      "\n",
      "Topic 3: \n",
      "apartment   1066.1894948495333 room   1015.2366648084302 bedroom   787.9612299679011 kitchen   709.4047718299095 located   703.270965485999 space   695.0659527055601 private   600.163255535917 home   597.1104900150257 bathroom   584.6667385863024 full   550.5786013429712 \n",
      "\n",
      "Topic 4: \n",
      "memory   64.58220220766033 foam   61.610751678708226 mattress   19.998891514670248 storage   0.21406798529474805 hard   0.17205637566555843 arrival   0.15837097514112827 linen   0.14895288816210392 equipped   0.14036604329363864 industrial   0.13954313811650096 cleaned   0.13648952624091898 \n",
      "\n",
      "Topic 5: \n",
      "large   93.96044401447955 bedroom   81.94677782604876 floor   79.64606938867196 floors   77.23912724471188 style   74.64332300872346 space   66.99440428942106 brick   65.63846088350755 brooklyn   64.97145527858784 ceilings   64.58119266250496 apartment   63.41038808973742 \n",
      "\n",
      "Topic 6: \n",
      "blueground   127.55895475877118 wireless   109.47609676172033 apartment   105.84014747045782 fully   105.74356312719216 equipped   103.20772675335873 superior   92.23058937021378 linens   80.09121459043072 luxury   75.43751601128336 premium   75.0238903458812 finishes   74.79380034542083 \n",
      "\n",
      "Topic 7: \n",
      "support   57.78071842663781 columbia   41.88718863775292 university   37.831911157411604 fort   17.190772121991593 greene   14.460321936406142 upper   13.034808460101344 riverside   10.254249601206647 west   8.853360371258253 side   6.306321935321454 park   1.9289962103266696 \n",
      "\n",
      "Topic 8: \n",
      "place   289.73077931233394 relax   195.41084860035346 peaceful   185.1101038976712 kick   183.51736917453727 whole   174.53313107629413 room   166.8131235638107 house   164.93865006078101 simple   130.9394826270016 family   129.0121765598558 stay   118.23894841316047 \n",
      "\n",
      "Topic 9: \n",
      "exciting   0.25534527798330797 greenpoint   0.14085039230653257 north   0.13680354724933041 chic   0.12673241728107132 house   0.11619893931763643 industrial   0.11337035703820415 glass   0.11191384365858537 everything   0.10852590851377965 suites   0.10785911847182562 stay   0.10685907425715231 "
     ]
    },
    {
     "name": "stderr",
     "output_type": "stream",
     "text": [
      "D:\\ANACODA\\lib\\site-packages\\sklearn\\utils\\deprecation.py:87: FutureWarning: Function get_feature_names is deprecated; get_feature_names is deprecated in 1.0 and will be removed in 1.2. Please use get_feature_names_out instead.\n",
      "  warnings.warn(msg, category=FutureWarning)\n"
     ]
    }
   ],
   "source": [
    "vocab = vect.get_feature_names()\n",
    "for i, comp in enumerate(lda_model.components_):\n",
    "     vocab_comp = zip(vocab, comp)\n",
    "     sorted_words = sorted(vocab_comp, key= lambda x:x[1], reverse=True)[:10]\n",
    "     print(\"\\n\")\n",
    "     print(\"Topic \"+str(i)+\": \")\n",
    "     for t in sorted_words:\n",
    "            print(t[0],\" \",t[1],end=\" \")\n",
    "            #print(\"\\n\")"
   ]
  },
  {
   "cell_type": "markdown",
   "id": "5932b2e7",
   "metadata": {},
   "source": [
    "Readability"
   ]
  },
  {
   "cell_type": "code",
   "execution_count": 88,
   "id": "8a405dba",
   "metadata": {},
   "outputs": [],
   "source": [
    "import textstat\n",
    "\n",
    "for text in airbnb['description']:\n",
    "    airbnb['flesch_socre']=textstat.flesch_reading_ease(text)"
   ]
  },
  {
   "cell_type": "code",
   "execution_count": 89,
   "id": "85b1c7fb",
   "metadata": {},
   "outputs": [
    {
     "data": {
      "text/html": [
       "<div>\n",
       "<style scoped>\n",
       "    .dataframe tbody tr th:only-of-type {\n",
       "        vertical-align: middle;\n",
       "    }\n",
       "\n",
       "    .dataframe tbody tr th {\n",
       "        vertical-align: top;\n",
       "    }\n",
       "\n",
       "    .dataframe thead th {\n",
       "        text-align: right;\n",
       "    }\n",
       "</style>\n",
       "<table border=\"1\" class=\"dataframe\">\n",
       "  <thead>\n",
       "    <tr style=\"text-align: right;\">\n",
       "      <th></th>\n",
       "      <th>description</th>\n",
       "      <th>host_is_superhost</th>\n",
       "      <th>host_identity_verified</th>\n",
       "      <th>host_response_time</th>\n",
       "      <th>host_response_rate</th>\n",
       "      <th>price</th>\n",
       "      <th>property_type</th>\n",
       "      <th>property_type_label</th>\n",
       "      <th>negative</th>\n",
       "      <th>neutral</th>\n",
       "      <th>positive</th>\n",
       "      <th>compound</th>\n",
       "      <th>sentiment</th>\n",
       "      <th>flesch_socre</th>\n",
       "    </tr>\n",
       "  </thead>\n",
       "  <tbody>\n",
       "    <tr>\n",
       "      <th>0</th>\n",
       "      <td>beautiful spacious skylit studio heart midtown...</td>\n",
       "      <td>f</td>\n",
       "      <td>t</td>\n",
       "      <td>a few days or more</td>\n",
       "      <td>39%</td>\n",
       "      <td>$225.00</td>\n",
       "      <td>Entire rental unit</td>\n",
       "      <td>14</td>\n",
       "      <td>0.010</td>\n",
       "      <td>0.705</td>\n",
       "      <td>0.285</td>\n",
       "      <td>0.9888</td>\n",
       "      <td>1</td>\n",
       "      <td>-45.94</td>\n",
       "    </tr>\n",
       "    <tr>\n",
       "      <th>1</th>\n",
       "      <td>room available rent bedroom bklyn share common...</td>\n",
       "      <td>f</td>\n",
       "      <td>t</td>\n",
       "      <td>within an hour</td>\n",
       "      <td>100%</td>\n",
       "      <td>$60.00</td>\n",
       "      <td>Private room in rental unit</td>\n",
       "      <td>40</td>\n",
       "      <td>0.000</td>\n",
       "      <td>0.757</td>\n",
       "      <td>0.243</td>\n",
       "      <td>0.9719</td>\n",
       "      <td>1</td>\n",
       "      <td>-45.94</td>\n",
       "    </tr>\n",
       "    <tr>\n",
       "      <th>2</th>\n",
       "      <td>welcome stay lovely duplex south slope brookly...</td>\n",
       "      <td>f</td>\n",
       "      <td>t</td>\n",
       "      <td>within an hour</td>\n",
       "      <td>100%</td>\n",
       "      <td>$275.00</td>\n",
       "      <td>Entire rental unit</td>\n",
       "      <td>14</td>\n",
       "      <td>0.047</td>\n",
       "      <td>0.740</td>\n",
       "      <td>0.213</td>\n",
       "      <td>0.9618</td>\n",
       "      <td>1</td>\n",
       "      <td>-45.94</td>\n",
       "    </tr>\n",
       "    <tr>\n",
       "      <th>3</th>\n",
       "      <td>please expect luxury here just basic room cent...</td>\n",
       "      <td>f</td>\n",
       "      <td>f</td>\n",
       "      <td>within a day</td>\n",
       "      <td>100%</td>\n",
       "      <td>$68.00</td>\n",
       "      <td>Private room in rental unit</td>\n",
       "      <td>40</td>\n",
       "      <td>0.020</td>\n",
       "      <td>0.820</td>\n",
       "      <td>0.160</td>\n",
       "      <td>0.9100</td>\n",
       "      <td>1</td>\n",
       "      <td>-45.94</td>\n",
       "    </tr>\n",
       "    <tr>\n",
       "      <th>4</th>\n",
       "      <td>spacebeautiful upper west side apartment great...</td>\n",
       "      <td>t</td>\n",
       "      <td>t</td>\n",
       "      <td>within a few hours</td>\n",
       "      <td>100%</td>\n",
       "      <td>$135.00</td>\n",
       "      <td>Entire rental unit</td>\n",
       "      <td>14</td>\n",
       "      <td>0.066</td>\n",
       "      <td>0.675</td>\n",
       "      <td>0.259</td>\n",
       "      <td>0.9615</td>\n",
       "      <td>1</td>\n",
       "      <td>-45.94</td>\n",
       "    </tr>\n",
       "  </tbody>\n",
       "</table>\n",
       "</div>"
      ],
      "text/plain": [
       "                                         description host_is_superhost  \\\n",
       "0  beautiful spacious skylit studio heart midtown...                 f   \n",
       "1  room available rent bedroom bklyn share common...                 f   \n",
       "2  welcome stay lovely duplex south slope brookly...                 f   \n",
       "3  please expect luxury here just basic room cent...                 f   \n",
       "4  spacebeautiful upper west side apartment great...                 t   \n",
       "\n",
       "  host_identity_verified  host_response_time host_response_rate    price  \\\n",
       "0                      t  a few days or more                39%  $225.00   \n",
       "1                      t      within an hour               100%   $60.00   \n",
       "2                      t      within an hour               100%  $275.00   \n",
       "3                      f        within a day               100%   $68.00   \n",
       "4                      t  within a few hours               100%  $135.00   \n",
       "\n",
       "                 property_type  property_type_label  negative  neutral  \\\n",
       "0           Entire rental unit                   14     0.010    0.705   \n",
       "1  Private room in rental unit                   40     0.000    0.757   \n",
       "2           Entire rental unit                   14     0.047    0.740   \n",
       "3  Private room in rental unit                   40     0.020    0.820   \n",
       "4           Entire rental unit                   14     0.066    0.675   \n",
       "\n",
       "   positive  compound  sentiment  flesch_socre  \n",
       "0     0.285    0.9888          1        -45.94  \n",
       "1     0.243    0.9719          1        -45.94  \n",
       "2     0.213    0.9618          1        -45.94  \n",
       "3     0.160    0.9100          1        -45.94  \n",
       "4     0.259    0.9615          1        -45.94  "
      ]
     },
     "execution_count": 89,
     "metadata": {},
     "output_type": "execute_result"
    }
   ],
   "source": [
    "airbnb.head()"
   ]
  },
  {
   "cell_type": "code",
   "execution_count": 90,
   "id": "3ec41f65",
   "metadata": {},
   "outputs": [
    {
     "name": "stdout",
     "output_type": "stream",
     "text": [
      "Mean of All Sentence Flesch Socre :  -45.94\n"
     ]
    }
   ],
   "source": [
    "print(\"Mean of All Sentence Flesch Socre : \",round(airbnb['flesch_socre'].mean(),2))"
   ]
  },
  {
   "cell_type": "markdown",
   "id": "1e2973ad",
   "metadata": {},
   "source": [
    "Sentiment intensity\n"
   ]
  },
  {
   "cell_type": "markdown",
   "id": "8f78c9f0",
   "metadata": {},
   "source": [
    "1]Data Visualisation"
   ]
  },
  {
   "cell_type": "code",
   "execution_count": 91,
   "id": "66004103",
   "metadata": {},
   "outputs": [
    {
     "data": {
      "image/png": "[encoded data removed]",
      "text/plain": [
       "<Figure size 800x480 with 1 Axes>"
      ]
     },
     "metadata": {},
     "output_type": "display_data"
    }
   ],
   "source": [
    "# Draw Plot\n",
    "fig, ax = plt.subplots(figsize=(10, 6), subplot_kw=dict(aspect=\"equal\"), dpi= 80)\n",
    "\n",
    "data = [airbnb.sentiment.value_counts()[-1], airbnb.sentiment.value_counts()[0], airbnb.sentiment.value_counts()[1]]\n",
    "categories = ['Negative', 'Neutral', 'Positive']\n",
    "explode = [0.05,0.05,0.05]\n",
    "\n",
    "def func(pct, allvals):\n",
    "    absolute = int(pct/100.*np.sum(allvals))\n",
    "    return \"{:.1f}% ({:d} )\".format(pct, absolute)\n",
    "\n",
    "wedges, texts, autotexts = ax.pie(data, \n",
    "                                  autopct=lambda pct: func(pct, data),\n",
    "                                  textprops=dict(color=\"w\"), \n",
    "                                  colors=['#e55039', '#3c6382', '#78e08f'],\n",
    "                                  startangle=140,\n",
    "                                  explode=explode)\n",
    "\n",
    "# Decoration\n",
    "ax.legend(wedges, categories, title=\"Sentiment\", loc=\"center left\", bbox_to_anchor=(1, 0.2, 0.5, 1))\n",
    "plt.setp(autotexts, size=10, weight=700)\n",
    "ax.set_title(\"Number of description  by Sentiment\", fontsize=12, fontweight=\"bold\")\n",
    "plt.show()"
   ]
  },
  {
   "cell_type": "code",
   "execution_count": null,
   "id": "90972720",
   "metadata": {},
   "outputs": [],
   "source": []
  },
  {
   "cell_type": "code",
   "execution_count": null,
   "id": "ed5bbda2",
   "metadata": {},
   "outputs": [],
   "source": []
  },
  {
   "cell_type": "code",
   "execution_count": null,
   "id": "9b4580bd",
   "metadata": {},
   "outputs": [],
   "source": []
  },
  {
   "cell_type": "code",
   "execution_count": null,
   "id": "c64f52bb",
   "metadata": {},
   "outputs": [],
   "source": []
  }
 ],
 "metadata": {
  "kernelspec": {
   "display_name": "Python 3 (ipykernel)",
   "language": "python",
   "name": "python3"
  },
  "language_info": {
   "codemirror_mode": {
    "name": "ipython",
    "version": 3
   },
   "file_extension": ".py",
   "mimetype": "text/x-python",
   "name": "python",
   "nbconvert_exporter": "python",
   "pygments_lexer": "ipython3",
   "version": "3.9.12"
  }
 },
 "nbformat": 4,
 "nbformat_minor": 5
}
